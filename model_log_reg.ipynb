{
 "cells": [
  {
   "cell_type": "code",
   "execution_count": 95,
   "metadata": {},
   "outputs": [],
   "source": [
    "#import pandas_profiling as pp\n",
    "import pandas as pd\n",
    "import numpy as np\n",
    "import matplotlib.pyplot as plt\n",
    "import seaborn as sns\n",
    "from sklearn.model_selection import train_test_split\n",
    "from sklearn.metrics import r2_score, mean_squared_error #not used\n",
    "from sklearn.linear_model import LogisticRegression\n",
    "from sklearn.preprocessing import StandardScaler\n",
    "from sklearn.preprocessing import LabelEncoder # not used\n",
    "from sklearn.metrics import confusion_matrix, classification_report\n",
    "from sklearn.model_selection import cross_val_score\n",
    "from sklearn.pipeline import Pipeline #not used\n",
    "from sklearn.metrics import accuracy_score,precision_score,recall_score,f1_score,log_loss\n",
    "from sklearn import metrics\n",
    "from sklearn.feature_selection import RFE\n",
    "from sklearn.linear_model import LogisticRegressionCV #not used\n",
    "from plotly.offline import download_plotlyjs, init_notebook_mode, plot, iplot #not used\n",
    "from sklearn.metrics import plot_confusion_matrix\n",
    "\n",
    "\n",
    "plt.style.use('fivethirtyeight')\n",
    "#plt.style.use('default')\n",
    "\n",
    "\n",
    "import matplotlib.ticker as mtick\n",
    "\n",
    "import warnings\n",
    "warnings.filterwarnings('ignore')\n",
    "\n",
    "pd.set_option('display.max_rows', 250)\n",
    "pd.set_option('display.min_rows', 100)\n",
    "pd.set_option('display.max_columns', 30)"
   ]
  },
  {
   "cell_type": "code",
   "execution_count": 4,
   "metadata": {},
   "outputs": [],
   "source": [
    "df = pd.read_csv('hr-data.csv')"
   ]
  },
  {
   "cell_type": "markdown",
   "metadata": {},
   "source": [
    "## Modelling"
   ]
  },
  {
   "cell_type": "code",
   "execution_count": 42,
   "metadata": {},
   "outputs": [
    {
     "name": "stdout",
     "output_type": "stream",
     "text": [
      "(14999, 11)\n"
     ]
    },
    {
     "data": {
      "text/html": [
       "<div>\n",
       "<style scoped>\n",
       "    .dataframe tbody tr th:only-of-type {\n",
       "        vertical-align: middle;\n",
       "    }\n",
       "\n",
       "    .dataframe tbody tr th {\n",
       "        vertical-align: top;\n",
       "    }\n",
       "\n",
       "    .dataframe thead th {\n",
       "        text-align: right;\n",
       "    }\n",
       "</style>\n",
       "<table border=\"1\" class=\"dataframe\">\n",
       "  <thead>\n",
       "    <tr style=\"text-align: right;\">\n",
       "      <th></th>\n",
       "      <th>id</th>\n",
       "      <th>satisfaction_level</th>\n",
       "      <th>last_evaluation</th>\n",
       "      <th>number_project</th>\n",
       "      <th>average_montly_hours</th>\n",
       "      <th>time_spend_company</th>\n",
       "      <th>Work_accident</th>\n",
       "      <th>churn</th>\n",
       "      <th>promotion_last_5years</th>\n",
       "      <th>sales</th>\n",
       "      <th>salary</th>\n",
       "    </tr>\n",
       "  </thead>\n",
       "  <tbody>\n",
       "    <tr>\n",
       "      <th>0</th>\n",
       "      <td>0</td>\n",
       "      <td>0.38</td>\n",
       "      <td>0.53</td>\n",
       "      <td>2</td>\n",
       "      <td>157</td>\n",
       "      <td>3</td>\n",
       "      <td>0</td>\n",
       "      <td>1</td>\n",
       "      <td>0</td>\n",
       "      <td>sales</td>\n",
       "      <td>low</td>\n",
       "    </tr>\n",
       "    <tr>\n",
       "      <th>1</th>\n",
       "      <td>1</td>\n",
       "      <td>0.80</td>\n",
       "      <td>0.86</td>\n",
       "      <td>5</td>\n",
       "      <td>262</td>\n",
       "      <td>6</td>\n",
       "      <td>0</td>\n",
       "      <td>1</td>\n",
       "      <td>0</td>\n",
       "      <td>sales</td>\n",
       "      <td>medium</td>\n",
       "    </tr>\n",
       "    <tr>\n",
       "      <th>2</th>\n",
       "      <td>2</td>\n",
       "      <td>0.11</td>\n",
       "      <td>0.88</td>\n",
       "      <td>7</td>\n",
       "      <td>272</td>\n",
       "      <td>4</td>\n",
       "      <td>0</td>\n",
       "      <td>1</td>\n",
       "      <td>0</td>\n",
       "      <td>sales</td>\n",
       "      <td>medium</td>\n",
       "    </tr>\n",
       "    <tr>\n",
       "      <th>3</th>\n",
       "      <td>3</td>\n",
       "      <td>0.72</td>\n",
       "      <td>0.87</td>\n",
       "      <td>5</td>\n",
       "      <td>223</td>\n",
       "      <td>5</td>\n",
       "      <td>0</td>\n",
       "      <td>1</td>\n",
       "      <td>0</td>\n",
       "      <td>sales</td>\n",
       "      <td>low</td>\n",
       "    </tr>\n",
       "    <tr>\n",
       "      <th>4</th>\n",
       "      <td>4</td>\n",
       "      <td>0.37</td>\n",
       "      <td>0.52</td>\n",
       "      <td>2</td>\n",
       "      <td>159</td>\n",
       "      <td>3</td>\n",
       "      <td>0</td>\n",
       "      <td>1</td>\n",
       "      <td>0</td>\n",
       "      <td>sales</td>\n",
       "      <td>low</td>\n",
       "    </tr>\n",
       "  </tbody>\n",
       "</table>\n",
       "</div>"
      ],
      "text/plain": [
       "   id  satisfaction_level  last_evaluation  number_project  \\\n",
       "0   0                0.38             0.53               2   \n",
       "1   1                0.80             0.86               5   \n",
       "2   2                0.11             0.88               7   \n",
       "3   3                0.72             0.87               5   \n",
       "4   4                0.37             0.52               2   \n",
       "\n",
       "   average_montly_hours  time_spend_company  Work_accident  churn  \\\n",
       "0                   157                   3              0      1   \n",
       "1                   262                   6              0      1   \n",
       "2                   272                   4              0      1   \n",
       "3                   223                   5              0      1   \n",
       "4                   159                   3              0      1   \n",
       "\n",
       "   promotion_last_5years  sales  salary  \n",
       "0                      0  sales     low  \n",
       "1                      0  sales  medium  \n",
       "2                      0  sales  medium  \n",
       "3                      0  sales     low  \n",
       "4                      0  sales     low  "
      ]
     },
     "execution_count": 42,
     "metadata": {},
     "output_type": "execute_result"
    }
   ],
   "source": [
    "print(df.shape) #11 columns\n",
    "df.head()"
   ]
  },
  {
   "cell_type": "code",
   "execution_count": 43,
   "metadata": {},
   "outputs": [
    {
     "data": {
      "text/plain": [
       "Index(['satisfaction_level', 'last_evaluation', 'number_project',\n",
       "       'average_montly_hours', 'time_spend_company', 'Work_accident', 'churn',\n",
       "       'promotion_last_5years', 'sales', 'salary'],\n",
       "      dtype='object')"
      ]
     },
     "execution_count": 43,
     "metadata": {},
     "output_type": "execute_result"
    }
   ],
   "source": [
    "df.columns[1:]"
   ]
  },
  {
   "cell_type": "code",
   "execution_count": 44,
   "metadata": {},
   "outputs": [],
   "source": [
    "# le = LabelEncoder()\n",
    "# # Label Encoding will be used for columns with 2 or less unique values\n",
    "# le_count = 0\n",
    "# for col in df.columns[1:]:\n",
    "#     if df[col].dtype == 'object':\n",
    "#         if len(list(df[col].unique())) <= 2:\n",
    "#             le.fit(df[col])\n",
    "#             df[col] = le.transform(df[col])\n",
    "#             le_count += 1\n",
    "# print('{} columns were label encoded.'.format(le_count))"
   ]
  },
  {
   "cell_type": "code",
   "execution_count": 45,
   "metadata": {},
   "outputs": [],
   "source": [
    "#Machine Learning algorithms can typically only have numerical values as their predictor variables. \n",
    "#Hence Label Encoding becomes necessary as they encode categorical labels with numerical values. \n",
    "#To avoid introducing feature importance for categorical features with large numbers of unique values, \n",
    "#we will use dummy variables\n",
    "df = pd.get_dummies(df) #drop_first=True)\n"
   ]
  },
  {
   "cell_type": "code",
   "execution_count": 46,
   "metadata": {},
   "outputs": [
    {
     "name": "stdout",
     "output_type": "stream",
     "text": [
      "(14999, 22)\n"
     ]
    },
    {
     "data": {
      "text/html": [
       "<div>\n",
       "<style scoped>\n",
       "    .dataframe tbody tr th:only-of-type {\n",
       "        vertical-align: middle;\n",
       "    }\n",
       "\n",
       "    .dataframe tbody tr th {\n",
       "        vertical-align: top;\n",
       "    }\n",
       "\n",
       "    .dataframe thead th {\n",
       "        text-align: right;\n",
       "    }\n",
       "</style>\n",
       "<table border=\"1\" class=\"dataframe\">\n",
       "  <thead>\n",
       "    <tr style=\"text-align: right;\">\n",
       "      <th></th>\n",
       "      <th>id</th>\n",
       "      <th>satisfaction_level</th>\n",
       "      <th>last_evaluation</th>\n",
       "      <th>number_project</th>\n",
       "      <th>average_montly_hours</th>\n",
       "      <th>time_spend_company</th>\n",
       "      <th>Work_accident</th>\n",
       "      <th>churn</th>\n",
       "      <th>promotion_last_5years</th>\n",
       "      <th>sales_IT</th>\n",
       "      <th>sales_RandD</th>\n",
       "      <th>sales_accounting</th>\n",
       "      <th>sales_hr</th>\n",
       "      <th>sales_management</th>\n",
       "      <th>sales_marketing</th>\n",
       "      <th>sales_product_mng</th>\n",
       "      <th>sales_sales</th>\n",
       "      <th>sales_support</th>\n",
       "      <th>sales_technical</th>\n",
       "      <th>salary_high</th>\n",
       "      <th>salary_low</th>\n",
       "      <th>salary_medium</th>\n",
       "    </tr>\n",
       "  </thead>\n",
       "  <tbody>\n",
       "    <tr>\n",
       "      <th>0</th>\n",
       "      <td>0</td>\n",
       "      <td>0.38</td>\n",
       "      <td>0.53</td>\n",
       "      <td>2</td>\n",
       "      <td>157</td>\n",
       "      <td>3</td>\n",
       "      <td>0</td>\n",
       "      <td>1</td>\n",
       "      <td>0</td>\n",
       "      <td>0</td>\n",
       "      <td>0</td>\n",
       "      <td>0</td>\n",
       "      <td>0</td>\n",
       "      <td>0</td>\n",
       "      <td>0</td>\n",
       "      <td>0</td>\n",
       "      <td>1</td>\n",
       "      <td>0</td>\n",
       "      <td>0</td>\n",
       "      <td>0</td>\n",
       "      <td>1</td>\n",
       "      <td>0</td>\n",
       "    </tr>\n",
       "    <tr>\n",
       "      <th>1</th>\n",
       "      <td>1</td>\n",
       "      <td>0.80</td>\n",
       "      <td>0.86</td>\n",
       "      <td>5</td>\n",
       "      <td>262</td>\n",
       "      <td>6</td>\n",
       "      <td>0</td>\n",
       "      <td>1</td>\n",
       "      <td>0</td>\n",
       "      <td>0</td>\n",
       "      <td>0</td>\n",
       "      <td>0</td>\n",
       "      <td>0</td>\n",
       "      <td>0</td>\n",
       "      <td>0</td>\n",
       "      <td>0</td>\n",
       "      <td>1</td>\n",
       "      <td>0</td>\n",
       "      <td>0</td>\n",
       "      <td>0</td>\n",
       "      <td>0</td>\n",
       "      <td>1</td>\n",
       "    </tr>\n",
       "    <tr>\n",
       "      <th>2</th>\n",
       "      <td>2</td>\n",
       "      <td>0.11</td>\n",
       "      <td>0.88</td>\n",
       "      <td>7</td>\n",
       "      <td>272</td>\n",
       "      <td>4</td>\n",
       "      <td>0</td>\n",
       "      <td>1</td>\n",
       "      <td>0</td>\n",
       "      <td>0</td>\n",
       "      <td>0</td>\n",
       "      <td>0</td>\n",
       "      <td>0</td>\n",
       "      <td>0</td>\n",
       "      <td>0</td>\n",
       "      <td>0</td>\n",
       "      <td>1</td>\n",
       "      <td>0</td>\n",
       "      <td>0</td>\n",
       "      <td>0</td>\n",
       "      <td>0</td>\n",
       "      <td>1</td>\n",
       "    </tr>\n",
       "    <tr>\n",
       "      <th>3</th>\n",
       "      <td>3</td>\n",
       "      <td>0.72</td>\n",
       "      <td>0.87</td>\n",
       "      <td>5</td>\n",
       "      <td>223</td>\n",
       "      <td>5</td>\n",
       "      <td>0</td>\n",
       "      <td>1</td>\n",
       "      <td>0</td>\n",
       "      <td>0</td>\n",
       "      <td>0</td>\n",
       "      <td>0</td>\n",
       "      <td>0</td>\n",
       "      <td>0</td>\n",
       "      <td>0</td>\n",
       "      <td>0</td>\n",
       "      <td>1</td>\n",
       "      <td>0</td>\n",
       "      <td>0</td>\n",
       "      <td>0</td>\n",
       "      <td>1</td>\n",
       "      <td>0</td>\n",
       "    </tr>\n",
       "    <tr>\n",
       "      <th>4</th>\n",
       "      <td>4</td>\n",
       "      <td>0.37</td>\n",
       "      <td>0.52</td>\n",
       "      <td>2</td>\n",
       "      <td>159</td>\n",
       "      <td>3</td>\n",
       "      <td>0</td>\n",
       "      <td>1</td>\n",
       "      <td>0</td>\n",
       "      <td>0</td>\n",
       "      <td>0</td>\n",
       "      <td>0</td>\n",
       "      <td>0</td>\n",
       "      <td>0</td>\n",
       "      <td>0</td>\n",
       "      <td>0</td>\n",
       "      <td>1</td>\n",
       "      <td>0</td>\n",
       "      <td>0</td>\n",
       "      <td>0</td>\n",
       "      <td>1</td>\n",
       "      <td>0</td>\n",
       "    </tr>\n",
       "  </tbody>\n",
       "</table>\n",
       "</div>"
      ],
      "text/plain": [
       "   id  satisfaction_level  last_evaluation  number_project  \\\n",
       "0   0                0.38             0.53               2   \n",
       "1   1                0.80             0.86               5   \n",
       "2   2                0.11             0.88               7   \n",
       "3   3                0.72             0.87               5   \n",
       "4   4                0.37             0.52               2   \n",
       "\n",
       "   average_montly_hours  time_spend_company  Work_accident  churn  \\\n",
       "0                   157                   3              0      1   \n",
       "1                   262                   6              0      1   \n",
       "2                   272                   4              0      1   \n",
       "3                   223                   5              0      1   \n",
       "4                   159                   3              0      1   \n",
       "\n",
       "   promotion_last_5years  sales_IT  sales_RandD  sales_accounting  sales_hr  \\\n",
       "0                      0         0            0                 0         0   \n",
       "1                      0         0            0                 0         0   \n",
       "2                      0         0            0                 0         0   \n",
       "3                      0         0            0                 0         0   \n",
       "4                      0         0            0                 0         0   \n",
       "\n",
       "   sales_management  sales_marketing  sales_product_mng  sales_sales  \\\n",
       "0                 0                0                  0            1   \n",
       "1                 0                0                  0            1   \n",
       "2                 0                0                  0            1   \n",
       "3                 0                0                  0            1   \n",
       "4                 0                0                  0            1   \n",
       "\n",
       "   sales_support  sales_technical  salary_high  salary_low  salary_medium  \n",
       "0              0                0            0           1              0  \n",
       "1              0                0            0           0              1  \n",
       "2              0                0            0           0              1  \n",
       "3              0                0            0           1              0  \n",
       "4              0                0            0           1              0  "
      ]
     },
     "execution_count": 46,
     "metadata": {},
     "output_type": "execute_result"
    }
   ],
   "source": [
    "print(df.shape) #22 columns\n",
    "df.head()"
   ]
  },
  {
   "cell_type": "code",
   "execution_count": 47,
   "metadata": {},
   "outputs": [
    {
     "data": {
      "text/plain": [
       "Index(['id', 'satisfaction_level', 'last_evaluation', 'number_project',\n",
       "       'average_montly_hours', 'time_spend_company', 'Work_accident', 'churn',\n",
       "       'promotion_last_5years', 'sales_IT', 'sales_RandD', 'sales_accounting',\n",
       "       'sales_hr', 'sales_management', 'sales_marketing', 'sales_product_mng',\n",
       "       'sales_sales', 'sales_support', 'sales_technical', 'salary_high',\n",
       "       'salary_low', 'salary_medium'],\n",
       "      dtype='object')"
      ]
     },
     "execution_count": 47,
     "metadata": {},
     "output_type": "execute_result"
    }
   ],
   "source": [
    "df.columns"
   ]
  },
  {
   "cell_type": "code",
   "execution_count": 48,
   "metadata": {},
   "outputs": [],
   "source": [
    "#Setting what the categorical, numerical, and target variables are\n",
    "categorical_variables = [\n",
    "    'Work_accident',\n",
    "    'promotion_last_5years',\n",
    "    'sales_IT', 'sales_RandD', 'sales_accounting', 'sales_hr', 'sales_management',\n",
    "    'sales_marketing', 'sales_product_mng', 'sales_sales', 'sales_support', 'sales_technical', \n",
    "    'salary_high', 'salary_low', 'salary_medium'\n",
    "]\n",
    "numerical_variables = [\n",
    "    'satisfaction_level',\n",
    "    'last_evaluation',\n",
    "    'number_project',\n",
    "    'average_montly_hours',\n",
    "    'time_spend_company',\n",
    "]\n",
    "hi_corr_vars = [\n",
    "    'average_montly_hours',  \n",
    "    'salary_low',              \n",
    "    'time_spend_company',    \n",
    "    'satisfaction_level',      \n",
    "    'Work_accident',           \n",
    "    'salary_high',             \n",
    "    'salary_medium',          \n",
    "    'promotion_last_5years'   \n",
    "]\n",
    "rfe_vars = [\n",
    "    'satisfaction_level',\n",
    "    'Work_accident',\n",
    "    'promotion_last_5years',\n",
    "    'sales_RandD',\n",
    "    'salary_high',\n",
    "    'sales_hr',\n",
    "    'sales_management',\n",
    "    'salary_low'\n",
    "]\n",
    "target = ['Target']\n",
    "\n",
    "#numerical variables are better features as model performs better \n",
    "#highly correlated variables are better than RFE"
   ]
  },
  {
   "cell_type": "code",
   "execution_count": 49,
   "metadata": {
    "scrolled": true
   },
   "outputs": [],
   "source": [
    "#Set variables\n",
    "#X = df.drop(columns=['id','churn'])\n",
    "y = df[['churn']]\n",
    "X = df[hi_corr_vars]\n",
    "#train validation data split\n",
    "X_train, X_val, y_train, y_val = train_test_split(X,\n",
    "                                                  y,\n",
    "                                                  test_size = 0.2,\n",
    "                                                  random_state = 42)\n",
    "\n",
    "#Feature Scaling using Scaler essentially removing the mean and scaling to unit variance. \n",
    "#Machine Learning algorithms perform better when input numerical variables fall within a similar scale. \n",
    "\n",
    "#Scale model \n",
    "scaler = StandardScaler()\n",
    "#fit scaler\n",
    "scaler.fit(X_train)\n",
    "#transform the data\n",
    "X_train_scale = scaler.transform(X_train)\n",
    "X_val_scale = scaler.transform(X_val)"
   ]
  },
  {
   "cell_type": "code",
   "execution_count": 50,
   "metadata": {},
   "outputs": [
    {
     "data": {
      "text/plain": [
       "0    0.76123\n",
       "1    0.23877\n",
       "Name: churn, dtype: float64"
      ]
     },
     "execution_count": 50,
     "metadata": {},
     "output_type": "execute_result"
    }
   ],
   "source": [
    "y_train['churn'].value_counts(normalize=True)"
   ]
  },
  {
   "cell_type": "code",
   "execution_count": 51,
   "metadata": {},
   "outputs": [
    {
     "data": {
      "text/plain": [
       "0    0.764667\n",
       "1    0.235333\n",
       "Name: churn, dtype: float64"
      ]
     },
     "execution_count": 51,
     "metadata": {},
     "output_type": "execute_result"
    }
   ],
   "source": [
    "y_val['churn'].value_counts(normalize=True)\n",
    "\n",
    "#maintained the same churn ration when split testing data"
   ]
  },
  {
   "cell_type": "code",
   "execution_count": 52,
   "metadata": {},
   "outputs": [
    {
     "name": "stdout",
     "output_type": "stream",
     "text": [
      "Num Features: 8\n",
      "Selected Features: [ True  True  True  True  True  True  True  True]\n",
      "Feature Ranking: [1 1 1 1 1 1 1 1]\n"
     ]
    },
    {
     "data": {
      "text/plain": [
       "[('average_montly_hours', 1),\n",
       " ('salary_low', 1),\n",
       " ('time_spend_company', 1),\n",
       " ('satisfaction_level', 1),\n",
       " ('Work_accident', 1),\n",
       " ('salary_high', 1),\n",
       " ('salary_medium', 1),\n",
       " ('promotion_last_5years', 1)]"
      ]
     },
     "execution_count": 52,
     "metadata": {},
     "output_type": "execute_result"
    }
   ],
   "source": [
    "# Feature extraction\n",
    "model = LogisticRegression()\n",
    "rfe = RFE(model, 8)\n",
    "fit = rfe.fit(X, y)\n",
    "print(\"Num Features: %s\" % (fit.n_features_))\n",
    "print(\"Selected Features: %s\" % (fit.support_))\n",
    "print(\"Feature Ranking: %s\" % (fit.ranking_))\n",
    "list(zip(X.columns,fit.ranking_))"
   ]
  },
  {
   "cell_type": "code",
   "execution_count": 53,
   "metadata": {},
   "outputs": [
    {
     "data": {
      "text/plain": [
       "LogisticRegression(C=1, class_weight='balanced', dual=False, fit_intercept=True,\n",
       "                   intercept_scaling=1, l1_ratio=None, max_iter=1000,\n",
       "                   multi_class='auto', n_jobs=None, penalty='l1',\n",
       "                   random_state=42, solver='saga', tol=0.0001, verbose=0,\n",
       "                   warm_start=False)"
      ]
     },
     "execution_count": 53,
     "metadata": {},
     "output_type": "execute_result"
    }
   ],
   "source": [
    "#Set model (Going to be using the same data as model 3)\n",
    "clf = LogisticRegression(penalty = 'l1',\n",
    "                         solver='saga',\n",
    "                         class_weight='balanced',\n",
    "                         max_iter=1000, #changed interations from default=100\n",
    "                         random_state=42,\n",
    "                         C=1)\n",
    "clf.fit(X_train_scale,y_train)"
   ]
  },
  {
   "cell_type": "code",
   "execution_count": 54,
   "metadata": {},
   "outputs": [],
   "source": [
    "probs = clf.predict_proba(X_val_scale) # predict probabilities\n",
    "#probs = probs[:, 1] # we will only keep probabilities associated with the employee leaving"
   ]
  },
  {
   "cell_type": "code",
   "execution_count": 55,
   "metadata": {},
   "outputs": [],
   "source": [
    "probs = probs[:,1:2]"
   ]
  },
  {
   "cell_type": "code",
   "execution_count": 56,
   "metadata": {},
   "outputs": [
    {
     "data": {
      "text/plain": [
       "0.4215370352098654"
      ]
     },
     "execution_count": 56,
     "metadata": {},
     "output_type": "execute_result"
    }
   ],
   "source": [
    "probs.mean()"
   ]
  },
  {
   "cell_type": "code",
   "execution_count": 57,
   "metadata": {},
   "outputs": [
    {
     "data": {
      "text/plain": [
       "0.9861614757282209"
      ]
     },
     "execution_count": 57,
     "metadata": {},
     "output_type": "execute_result"
    }
   ],
   "source": [
    "probs.max()"
   ]
  },
  {
   "cell_type": "code",
   "execution_count": 58,
   "metadata": {},
   "outputs": [
    {
     "data": {
      "text/plain": [
       "0.005243040188158934"
      ]
     },
     "execution_count": 58,
     "metadata": {},
     "output_type": "execute_result"
    }
   ],
   "source": [
    "probs.min()"
   ]
  },
  {
   "cell_type": "code",
   "execution_count": 59,
   "metadata": {},
   "outputs": [],
   "source": [
    "probs_df = pd.DataFrame(probs,columns = ['Probabilities'])\n"
   ]
  },
  {
   "cell_type": "code",
   "execution_count": 60,
   "metadata": {},
   "outputs": [
    {
     "data": {
      "text/plain": [
       "Probabilities    1872\n",
       "dtype: int64"
      ]
     },
     "execution_count": 60,
     "metadata": {},
     "output_type": "execute_result"
    }
   ],
   "source": [
    "probs_df[probs_df['Probabilities'] < .50].count()"
   ]
  },
  {
   "cell_type": "code",
   "execution_count": 61,
   "metadata": {},
   "outputs": [
    {
     "data": {
      "text/plain": [
       "Probabilities    784\n",
       "dtype: int64"
      ]
     },
     "execution_count": 61,
     "metadata": {},
     "output_type": "execute_result"
    }
   ],
   "source": [
    "probs_df[(probs_df['Probabilities'] > .50) & (probs_df['Probabilities'] < .80)].count()"
   ]
  },
  {
   "cell_type": "code",
   "execution_count": 62,
   "metadata": {},
   "outputs": [
    {
     "data": {
      "text/plain": [
       "Probabilities    344\n",
       "dtype: int64"
      ]
     },
     "execution_count": 62,
     "metadata": {},
     "output_type": "execute_result"
    }
   ],
   "source": [
    "probs_df[probs_df['Probabilities'] > .80].count()"
   ]
  },
  {
   "cell_type": "code",
   "execution_count": 63,
   "metadata": {},
   "outputs": [
    {
     "data": {
      "text/plain": [
       "'balanced'"
      ]
     },
     "execution_count": 63,
     "metadata": {},
     "output_type": "execute_result"
    }
   ],
   "source": [
    "clf.class_weight"
   ]
  },
  {
   "cell_type": "code",
   "execution_count": 64,
   "metadata": {},
   "outputs": [
    {
     "data": {
      "text/plain": [
       "array([0, 1])"
      ]
     },
     "execution_count": 64,
     "metadata": {},
     "output_type": "execute_result"
    }
   ],
   "source": [
    "clf.classes_"
   ]
  },
  {
   "cell_type": "code",
   "execution_count": 65,
   "metadata": {},
   "outputs": [
    {
     "data": {
      "text/plain": [
       "array([[ 0.05,  0.25,  0.58, -1.  , -0.53, -0.43, -0.  , -0.22]])"
      ]
     },
     "execution_count": 65,
     "metadata": {},
     "output_type": "execute_result"
    }
   ],
   "source": [
    "clf.coef_.round(2)"
   ]
  },
  {
   "cell_type": "code",
   "execution_count": 66,
   "metadata": {},
   "outputs": [],
   "source": [
    "y_train_pred_scale = clf.predict(X_train_scale) \n",
    "y_val_pred_scale = clf.predict(X_val_scale)"
   ]
  },
  {
   "cell_type": "code",
   "execution_count": 67,
   "metadata": {},
   "outputs": [
    {
     "data": {
      "text/plain": [
       "array([[6792, 2342],\n",
       "       [ 600, 2265]])"
      ]
     },
     "execution_count": 67,
     "metadata": {},
     "output_type": "execute_result"
    }
   ],
   "source": [
    "confusion_matrix(y_train,y_train_pred_scale)"
   ]
  },
  {
   "cell_type": "code",
   "execution_count": 68,
   "metadata": {},
   "outputs": [
    {
     "data": {
      "text/plain": [
       "array([[1723,  571],\n",
       "       [ 149,  557]])"
      ]
     },
     "execution_count": 68,
     "metadata": {},
     "output_type": "execute_result"
    }
   ],
   "source": [
    "confusion_matrix(y_val,y_val_pred_scale)"
   ]
  },
  {
   "cell_type": "code",
   "execution_count": 69,
   "metadata": {},
   "outputs": [
    {
     "name": "stdout",
     "output_type": "stream",
     "text": [
      "              precision    recall  f1-score   support\n",
      "\n",
      "           0       0.92      0.74      0.82      9134\n",
      "           1       0.49      0.79      0.61      2865\n",
      "\n",
      "    accuracy                           0.75     11999\n",
      "   macro avg       0.71      0.77      0.71     11999\n",
      "weighted avg       0.82      0.75      0.77     11999\n",
      "\n"
     ]
    }
   ],
   "source": [
    "print(metrics.classification_report(y_train,y_train_pred_scale))"
   ]
  },
  {
   "cell_type": "code",
   "execution_count": 89,
   "metadata": {},
   "outputs": [
    {
     "data": {
      "text/plain": [
       "<sklearn.metrics._plot.confusion_matrix.ConfusionMatrixDisplay at 0x7f240363d9b0>"
      ]
     },
     "execution_count": 89,
     "metadata": {},
     "output_type": "execute_result"
    },
    {
     "data": {
      "image/png": "[encoded data removed]",
      "text/plain": [
       "<Figure size 432x288 with 2 Axes>"
      ]
     },
     "metadata": {},
     "output_type": "display_data"
    }
   ],
   "source": [
    "plot_confusion_matrix(clf, X_train_scale, y_train, normalize=None)"
   ]
  },
  {
   "cell_type": "code",
   "execution_count": 112,
   "metadata": {},
   "outputs": [
    {
     "data": {
      "text/plain": [
       "<sklearn.metrics._plot.confusion_matrix.ConfusionMatrixDisplay at 0x7f24034073c8>"
      ]
     },
     "execution_count": 112,
     "metadata": {},
     "output_type": "execute_result"
    },
    {
     "data": {
      "image/png": "[encoded data removed]",
      "text/plain": [
       "<Figure size 432x288 with 2 Axes>"
      ]
     },
     "metadata": {},
     "output_type": "display_data"
    }
   ],
   "source": [
    "plot_confusion_matrix(clf, X_val_scale, y_val, normalize=None, values_format='.0f')\n",
    "\n",
    "#557 TP, 571 FP, 1723 TN, 138(4.6%) FN\n",
    "#The ideal scenario that we all want is that the model should give 0 False Positives and 0 False Negatives\n",
    "#Model classifying things incorrectly as compared to the actual class\n",
    "#In this business case we want to minimize FN"
   ]
  },
  {
   "cell_type": "code",
   "execution_count": 113,
   "metadata": {},
   "outputs": [
    {
     "data": {
      "text/plain": [
       "0.5457351722118393"
      ]
     },
     "execution_count": 113,
     "metadata": {},
     "output_type": "execute_result"
    }
   ],
   "source": [
    "#Log loss of X_train\n",
    "log_loss(y_train,clf.predict_proba(X_train_scale))"
   ]
  },
  {
   "cell_type": "code",
   "execution_count": 114,
   "metadata": {},
   "outputs": [
    {
     "data": {
      "text/plain": [
       "0.5554067286929001"
      ]
     },
     "execution_count": 114,
     "metadata": {},
     "output_type": "execute_result"
    }
   ],
   "source": [
    "#Log loss of X_val\n",
    "log_loss(y_val,clf.predict_proba(X_val_scale))"
   ]
  },
  {
   "cell_type": "code",
   "execution_count": 115,
   "metadata": {},
   "outputs": [
    {
     "name": "stdout",
     "output_type": "stream",
     "text": [
      "0.7548129010750896\n",
      "0.76\n"
     ]
    }
   ],
   "source": [
    "print(accuracy_score(y_train,y_train_pred_scale))\n",
    "print(accuracy_score(y_val,y_val_pred_scale))\n",
    "\n",
    "#high accuracy score because by default already having a lot of low probabilities because of the inbalance"
   ]
  },
  {
   "cell_type": "code",
   "execution_count": 116,
   "metadata": {},
   "outputs": [
    {
     "name": "stdout",
     "output_type": "stream",
     "text": [
      "0.4916431517256349\n",
      "0.49379432624113473\n"
     ]
    }
   ],
   "source": [
    "print(precision_score(y_train,y_train_pred_scale))\n",
    "print(precision_score(y_val,y_val_pred_scale))"
   ]
  },
  {
   "cell_type": "code",
   "execution_count": 117,
   "metadata": {},
   "outputs": [
    {
     "name": "stdout",
     "output_type": "stream",
     "text": [
      "0.7905759162303665\n",
      "0.7889518413597734\n"
     ]
    }
   ],
   "source": [
    "print(recall_score(y_train,y_train_pred_scale))\n",
    "print(recall_score(y_val,y_val_pred_scale))"
   ]
  },
  {
   "cell_type": "code",
   "execution_count": 118,
   "metadata": {},
   "outputs": [
    {
     "name": "stdout",
     "output_type": "stream",
     "text": [
      "0.6062633832976445\n",
      "0.6074154852780806\n"
     ]
    }
   ],
   "source": [
    "print(f1_score(y_train,y_train_pred_scale))\n",
    "print(f1_score(y_val,y_val_pred_scale))"
   ]
  },
  {
   "cell_type": "code",
   "execution_count": 119,
   "metadata": {},
   "outputs": [
    {
     "name": "stdout",
     "output_type": "stream",
     "text": [
      "0.7523109703234411\n",
      "0.8107022389375331\n",
      "0.49530214460334704\n",
      "0.6118018125163593\n"
     ]
    }
   ],
   "source": [
    "from sklearn.model_selection import StratifiedKFold\n",
    "cv = StratifiedKFold(n_splits=5, random_state=42)\n",
    "print(cross_val_score(clf, X, y, cv=cv, scoring='accuracy').mean())\n",
    "print(cross_val_score(clf, X, y, cv=cv, scoring='recall').mean())\n",
    "print(cross_val_score(clf, X, y, cv=cv, scoring='precision').mean())\n",
    "print(cross_val_score(clf, X, y, cv=cv, scoring='f1').mean())\n",
    "#sorted(sklearn.metrics.SCORERS.keys())\n",
    "# 0.7736604733057003\n",
    "# 0.8037204633960786\n",
    "# 0.61529054598928"
   ]
  },
  {
   "cell_type": "code",
   "execution_count": 120,
   "metadata": {},
   "outputs": [],
   "source": [
    "#As C goes down the list, the regularization power will increase.\n",
    "alpha_values = []\n",
    "log_loss_train = []\n",
    "log_loss_val = []\n",
    "acc_train = []\n",
    "acc_val = []\n",
    "pre_train = []\n",
    "pre_val = []\n",
    "rec_train = []\n",
    "rec_val = []\n",
    "f1_train = []\n",
    "f1_val = []\n",
    "for C in [1/np.power(10, int(n)) for n in range(0, 7)]:\n",
    "    clf = LogisticRegression(penalty = 'l1',\n",
    "                         solver='saga',\n",
    "                         class_weight='balanced',\n",
    "                         max_iter=10000, #changed interations from default=100\n",
    "                         random_state=42,\n",
    "                         C= C)\n",
    "    clf.fit(X_train_scale,y_train)\n",
    "    y_train_pred_scale = clf.predict(X_train_scale) \n",
    "    y_val_pred_scale = clf.predict(X_val_scale)\n",
    "    alpha_values.append(C)\n",
    "    #Log loss\n",
    "    log_loss_train.append(log_loss(y_train,clf.predict_proba(X_train_scale)))\n",
    "    log_loss_val.append(log_loss(y_val,clf.predict_proba(X_val_scale)))\n",
    "    \n",
    "    #Accuracy Score\n",
    "    acc_train.append(accuracy_score(y_train,y_train_pred_scale))\n",
    "    acc_val.append(accuracy_score(y_val,y_val_pred_scale))\n",
    "    \n",
    "    #Precision Score\n",
    "    pre_train.append(precision_score(y_train,y_train_pred_scale))\n",
    "    pre_val.append(precision_score(y_val,y_val_pred_scale))\n",
    "    \n",
    "    #Recall Score\n",
    "    rec_train.append(recall_score(y_train,y_train_pred_scale))\n",
    "    rec_val.append(recall_score(y_val,y_val_pred_scale))\n",
    "    \n",
    "    #F1 Score\n",
    "    f1_train.append(f1_score(y_train,y_train_pred_scale))\n",
    "    f1_val.append(f1_score(y_val,y_val_pred_scale))\n",
    "#high accuracy score because by default already having a lot of low probabilities because of the inbalance\n",
    "    \n",
    "# higher penalization for values...kind of like MSE - want it to be small - log loss\n",
    "#high accuracy score because by default already having a lot of low probabilities because of the inbalance\n",
    "#Can use regularization with logistic regression"
   ]
  },
  {
   "cell_type": "code",
   "execution_count": 121,
   "metadata": {},
   "outputs": [
    {
     "data": {
      "text/html": [
       "<div>\n",
       "<style scoped>\n",
       "    .dataframe tbody tr th:only-of-type {\n",
       "        vertical-align: middle;\n",
       "    }\n",
       "\n",
       "    .dataframe tbody tr th {\n",
       "        vertical-align: top;\n",
       "    }\n",
       "\n",
       "    .dataframe thead th {\n",
       "        text-align: right;\n",
       "    }\n",
       "</style>\n",
       "<table border=\"1\" class=\"dataframe\">\n",
       "  <thead>\n",
       "    <tr style=\"text-align: right;\">\n",
       "      <th></th>\n",
       "      <th>Alpha</th>\n",
       "      <th>log_loss_train</th>\n",
       "      <th>log_loss_val</th>\n",
       "      <th>acc_train</th>\n",
       "      <th>acc_val</th>\n",
       "      <th>pre_train</th>\n",
       "      <th>pre_val</th>\n",
       "      <th>rec_train</th>\n",
       "      <th>rec_val</th>\n",
       "      <th>f1_train</th>\n",
       "      <th>f1_val</th>\n",
       "    </tr>\n",
       "  </thead>\n",
       "  <tbody>\n",
       "    <tr>\n",
       "      <th>0</th>\n",
       "      <td>1.000000</td>\n",
       "      <td>0.545735</td>\n",
       "      <td>0.555407</td>\n",
       "      <td>0.754813</td>\n",
       "      <td>0.760000</td>\n",
       "      <td>0.491643</td>\n",
       "      <td>0.493794</td>\n",
       "      <td>0.790576</td>\n",
       "      <td>0.788952</td>\n",
       "      <td>0.606263</td>\n",
       "      <td>0.607415</td>\n",
       "    </tr>\n",
       "    <tr>\n",
       "      <th>1</th>\n",
       "      <td>0.100000</td>\n",
       "      <td>0.545524</td>\n",
       "      <td>0.555079</td>\n",
       "      <td>0.754563</td>\n",
       "      <td>0.759333</td>\n",
       "      <td>0.491297</td>\n",
       "      <td>0.492895</td>\n",
       "      <td>0.788133</td>\n",
       "      <td>0.786119</td>\n",
       "      <td>0.605281</td>\n",
       "      <td>0.605895</td>\n",
       "    </tr>\n",
       "    <tr>\n",
       "      <th>2</th>\n",
       "      <td>0.010000</td>\n",
       "      <td>0.545170</td>\n",
       "      <td>0.553630</td>\n",
       "      <td>0.749812</td>\n",
       "      <td>0.754667</td>\n",
       "      <td>0.484895</td>\n",
       "      <td>0.486413</td>\n",
       "      <td>0.767539</td>\n",
       "      <td>0.760623</td>\n",
       "      <td>0.594324</td>\n",
       "      <td>0.593370</td>\n",
       "    </tr>\n",
       "    <tr>\n",
       "      <th>3</th>\n",
       "      <td>0.001000</td>\n",
       "      <td>0.606061</td>\n",
       "      <td>0.613365</td>\n",
       "      <td>0.722394</td>\n",
       "      <td>0.717333</td>\n",
       "      <td>0.449480</td>\n",
       "      <td>0.437828</td>\n",
       "      <td>0.723560</td>\n",
       "      <td>0.708215</td>\n",
       "      <td>0.554500</td>\n",
       "      <td>0.541126</td>\n",
       "    </tr>\n",
       "    <tr>\n",
       "      <th>4</th>\n",
       "      <td>0.000100</td>\n",
       "      <td>0.743138</td>\n",
       "      <td>0.743745</td>\n",
       "      <td>0.238770</td>\n",
       "      <td>0.235333</td>\n",
       "      <td>0.238770</td>\n",
       "      <td>0.235333</td>\n",
       "      <td>1.000000</td>\n",
       "      <td>1.000000</td>\n",
       "      <td>0.385495</td>\n",
       "      <td>0.381004</td>\n",
       "    </tr>\n",
       "    <tr>\n",
       "      <th>5</th>\n",
       "      <td>0.000010</td>\n",
       "      <td>0.743454</td>\n",
       "      <td>0.744064</td>\n",
       "      <td>0.238770</td>\n",
       "      <td>0.235333</td>\n",
       "      <td>0.238770</td>\n",
       "      <td>0.235333</td>\n",
       "      <td>1.000000</td>\n",
       "      <td>1.000000</td>\n",
       "      <td>0.385495</td>\n",
       "      <td>0.381004</td>\n",
       "    </tr>\n",
       "    <tr>\n",
       "      <th>6</th>\n",
       "      <td>0.000001</td>\n",
       "      <td>0.743454</td>\n",
       "      <td>0.744064</td>\n",
       "      <td>0.238770</td>\n",
       "      <td>0.235333</td>\n",
       "      <td>0.238770</td>\n",
       "      <td>0.235333</td>\n",
       "      <td>1.000000</td>\n",
       "      <td>1.000000</td>\n",
       "      <td>0.385495</td>\n",
       "      <td>0.381004</td>\n",
       "    </tr>\n",
       "  </tbody>\n",
       "</table>\n",
       "</div>"
      ],
      "text/plain": [
       "      Alpha  log_loss_train  log_loss_val  acc_train   acc_val  pre_train  \\\n",
       "0  1.000000        0.545735      0.555407   0.754813  0.760000   0.491643   \n",
       "1  0.100000        0.545524      0.555079   0.754563  0.759333   0.491297   \n",
       "2  0.010000        0.545170      0.553630   0.749812  0.754667   0.484895   \n",
       "3  0.001000        0.606061      0.613365   0.722394  0.717333   0.449480   \n",
       "4  0.000100        0.743138      0.743745   0.238770  0.235333   0.238770   \n",
       "5  0.000010        0.743454      0.744064   0.238770  0.235333   0.238770   \n",
       "6  0.000001        0.743454      0.744064   0.238770  0.235333   0.238770   \n",
       "\n",
       "    pre_val  rec_train   rec_val  f1_train    f1_val  \n",
       "0  0.493794   0.790576  0.788952  0.606263  0.607415  \n",
       "1  0.492895   0.788133  0.786119  0.605281  0.605895  \n",
       "2  0.486413   0.767539  0.760623  0.594324  0.593370  \n",
       "3  0.437828   0.723560  0.708215  0.554500  0.541126  \n",
       "4  0.235333   1.000000  1.000000  0.385495  0.381004  \n",
       "5  0.235333   1.000000  1.000000  0.385495  0.381004  \n",
       "6  0.235333   1.000000  1.000000  0.385495  0.381004  "
      ]
     },
     "execution_count": 121,
     "metadata": {},
     "output_type": "execute_result"
    }
   ],
   "source": [
    "scores =  list(zip(alpha_values, log_loss_train, log_loss_val,acc_train,acc_val,pre_train,pre_val,\n",
    "                   rec_train,rec_val,f1_train,f1_val))\n",
    "scores_df = pd.DataFrame(scores,columns = ['Alpha' , 'log_loss_train', 'log_loss_val','acc_train','acc_val',\n",
    "                                           'pre_train','pre_val','rec_train','rec_val','f1_train','f1_val'])\n",
    "scores_df"
   ]
  },
  {
   "cell_type": "code",
   "execution_count": 122,
   "metadata": {},
   "outputs": [
    {
     "data": {
      "text/plain": [
       "Index(['id', 'satisfaction_level', 'last_evaluation', 'number_project',\n",
       "       'average_montly_hours', 'time_spend_company', 'Work_accident', 'churn',\n",
       "       'promotion_last_5years', 'sales_IT', 'sales_RandD', 'sales_accounting',\n",
       "       'sales_hr', 'sales_management', 'sales_marketing', 'sales_product_mng',\n",
       "       'sales_sales', 'sales_support', 'sales_technical', 'salary_high',\n",
       "       'salary_low', 'salary_medium'],\n",
       "      dtype='object')"
      ]
     },
     "execution_count": 122,
     "metadata": {},
     "output_type": "execute_result"
    }
   ],
   "source": [
    "df.columns"
   ]
  },
  {
   "cell_type": "code",
   "execution_count": 123,
   "metadata": {},
   "outputs": [
    {
     "data": {
      "text/plain": [
       "0    0.696516\n",
       "1    0.303484\n",
       "Name: churn, dtype: float64"
      ]
     },
     "execution_count": 123,
     "metadata": {},
     "output_type": "execute_result"
    }
   ],
   "source": [
    "df[df['last_evaluation']>=0.8]['churn'].value_counts(normalize=True)\n",
    "#people who have high performace from last evaluation churn 10% more "
   ]
  },
  {
   "cell_type": "code",
   "execution_count": 124,
   "metadata": {},
   "outputs": [
    {
     "data": {
      "text/plain": [
       "0    0.802462\n",
       "1    0.197538\n",
       "Name: churn, dtype: float64"
      ]
     },
     "execution_count": 124,
     "metadata": {},
     "output_type": "execute_result"
    }
   ],
   "source": [
    "df[df['last_evaluation']<0.8]['churn'].value_counts(normalize=True)\n",
    "#people who have high performace from last evaluation "
   ]
  },
  {
   "cell_type": "code",
   "execution_count": null,
   "metadata": {},
   "outputs": [],
   "source": []
  },
  {
   "cell_type": "code",
   "execution_count": null,
   "metadata": {},
   "outputs": [],
   "source": []
  }
 ],
 "metadata": {
  "kernelspec": {
   "display_name": "Python 3",
   "language": "python",
   "name": "python3"
  },
  "language_info": {
   "codemirror_mode": {
    "name": "ipython",
    "version": 3
   },
   "file_extension": ".py",
   "mimetype": "text/x-python",
   "name": "python",
   "nbconvert_exporter": "python",
   "pygments_lexer": "ipython3",
   "version": "3.6.9"
  }
 },
 "nbformat": 4,
 "nbformat_minor": 2
}
