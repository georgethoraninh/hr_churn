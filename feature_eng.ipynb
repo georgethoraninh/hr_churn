{
 "cells": [
  {
   "cell_type": "code",
   "execution_count": 1,
   "metadata": {},
   "outputs": [],
   "source": [
    "#import pandas_profiling as pp\n",
    "import pandas as pd\n",
    "import numpy as np\n",
    "import matplotlib.pyplot as plt\n",
    "import seaborn as sns\n",
    "\n",
    "plt.style.use('fivethirtyeight')\n",
    "#plt.style.use('default')\n",
    "\n",
    "import warnings\n",
    "warnings.filterwarnings('ignore')\n",
    "\n",
    "from sklearn.cluster import KMeans\n",
    "from sklearn.metrics import silhouette_score\n",
    "from sklearn.preprocessing import PolynomialFeatures\n",
    "\n",
    "pd.set_option('display.max_rows', 250)\n",
    "pd.set_option('display.min_rows', 100)\n",
    "pd.set_option('display.max_columns', 30)"
   ]
  },
  {
   "cell_type": "code",
   "execution_count": 2,
   "metadata": {},
   "outputs": [],
   "source": [
    "df = pd.read_csv('hr-data.csv')"
   ]
  },
  {
   "cell_type": "code",
   "execution_count": 3,
   "metadata": {},
   "outputs": [
    {
     "data": {
      "text/html": [
       "<div>\n",
       "<style scoped>\n",
       "    .dataframe tbody tr th:only-of-type {\n",
       "        vertical-align: middle;\n",
       "    }\n",
       "\n",
       "    .dataframe tbody tr th {\n",
       "        vertical-align: top;\n",
       "    }\n",
       "\n",
       "    .dataframe thead th {\n",
       "        text-align: right;\n",
       "    }\n",
       "</style>\n",
       "<table border=\"1\" class=\"dataframe\">\n",
       "  <thead>\n",
       "    <tr style=\"text-align: right;\">\n",
       "      <th></th>\n",
       "      <th>id</th>\n",
       "      <th>satisfaction_level</th>\n",
       "      <th>last_evaluation</th>\n",
       "      <th>number_project</th>\n",
       "      <th>average_montly_hours</th>\n",
       "      <th>time_spend_company</th>\n",
       "      <th>Work_accident</th>\n",
       "      <th>churn</th>\n",
       "      <th>promotion_last_5years</th>\n",
       "      <th>sales</th>\n",
       "      <th>salary</th>\n",
       "    </tr>\n",
       "  </thead>\n",
       "  <tbody>\n",
       "    <tr>\n",
       "      <th>0</th>\n",
       "      <td>0</td>\n",
       "      <td>0.38</td>\n",
       "      <td>0.53</td>\n",
       "      <td>2</td>\n",
       "      <td>157</td>\n",
       "      <td>3</td>\n",
       "      <td>0</td>\n",
       "      <td>1</td>\n",
       "      <td>0</td>\n",
       "      <td>sales</td>\n",
       "      <td>low</td>\n",
       "    </tr>\n",
       "    <tr>\n",
       "      <th>1</th>\n",
       "      <td>1</td>\n",
       "      <td>0.80</td>\n",
       "      <td>0.86</td>\n",
       "      <td>5</td>\n",
       "      <td>262</td>\n",
       "      <td>6</td>\n",
       "      <td>0</td>\n",
       "      <td>1</td>\n",
       "      <td>0</td>\n",
       "      <td>sales</td>\n",
       "      <td>medium</td>\n",
       "    </tr>\n",
       "    <tr>\n",
       "      <th>2</th>\n",
       "      <td>2</td>\n",
       "      <td>0.11</td>\n",
       "      <td>0.88</td>\n",
       "      <td>7</td>\n",
       "      <td>272</td>\n",
       "      <td>4</td>\n",
       "      <td>0</td>\n",
       "      <td>1</td>\n",
       "      <td>0</td>\n",
       "      <td>sales</td>\n",
       "      <td>medium</td>\n",
       "    </tr>\n",
       "    <tr>\n",
       "      <th>3</th>\n",
       "      <td>3</td>\n",
       "      <td>0.72</td>\n",
       "      <td>0.87</td>\n",
       "      <td>5</td>\n",
       "      <td>223</td>\n",
       "      <td>5</td>\n",
       "      <td>0</td>\n",
       "      <td>1</td>\n",
       "      <td>0</td>\n",
       "      <td>sales</td>\n",
       "      <td>low</td>\n",
       "    </tr>\n",
       "    <tr>\n",
       "      <th>4</th>\n",
       "      <td>4</td>\n",
       "      <td>0.37</td>\n",
       "      <td>0.52</td>\n",
       "      <td>2</td>\n",
       "      <td>159</td>\n",
       "      <td>3</td>\n",
       "      <td>0</td>\n",
       "      <td>1</td>\n",
       "      <td>0</td>\n",
       "      <td>sales</td>\n",
       "      <td>low</td>\n",
       "    </tr>\n",
       "  </tbody>\n",
       "</table>\n",
       "</div>"
      ],
      "text/plain": [
       "   id  satisfaction_level  last_evaluation  number_project  \\\n",
       "0   0                0.38             0.53               2   \n",
       "1   1                0.80             0.86               5   \n",
       "2   2                0.11             0.88               7   \n",
       "3   3                0.72             0.87               5   \n",
       "4   4                0.37             0.52               2   \n",
       "\n",
       "   average_montly_hours  time_spend_company  Work_accident  churn  \\\n",
       "0                   157                   3              0      1   \n",
       "1                   262                   6              0      1   \n",
       "2                   272                   4              0      1   \n",
       "3                   223                   5              0      1   \n",
       "4                   159                   3              0      1   \n",
       "\n",
       "   promotion_last_5years  sales  salary  \n",
       "0                      0  sales     low  \n",
       "1                      0  sales  medium  \n",
       "2                      0  sales  medium  \n",
       "3                      0  sales     low  \n",
       "4                      0  sales     low  "
      ]
     },
     "execution_count": 3,
     "metadata": {},
     "output_type": "execute_result"
    }
   ],
   "source": [
    "df.head()"
   ]
  },
  {
   "cell_type": "code",
   "execution_count": 4,
   "metadata": {},
   "outputs": [
    {
     "data": {
      "text/plain": [
       "(14999, 11)"
      ]
     },
     "execution_count": 4,
     "metadata": {},
     "output_type": "execute_result"
    }
   ],
   "source": [
    "df.shape"
   ]
  },
  {
   "cell_type": "code",
   "execution_count": 5,
   "metadata": {},
   "outputs": [
    {
     "data": {
      "text/plain": [
       "0    11428\n",
       "1     3571\n",
       "Name: churn, dtype: int64"
      ]
     },
     "execution_count": 5,
     "metadata": {},
     "output_type": "execute_result"
    }
   ],
   "source": [
    "df['churn'].value_counts()"
   ]
  },
  {
   "cell_type": "code",
   "execution_count": 6,
   "metadata": {},
   "outputs": [],
   "source": [
    "df.rename(columns={'sales':'dept'}, inplace=True)"
   ]
  },
  {
   "cell_type": "code",
   "execution_count": 7,
   "metadata": {},
   "outputs": [
    {
     "data": {
      "text/html": [
       "<div>\n",
       "<style scoped>\n",
       "    .dataframe tbody tr th:only-of-type {\n",
       "        vertical-align: middle;\n",
       "    }\n",
       "\n",
       "    .dataframe tbody tr th {\n",
       "        vertical-align: top;\n",
       "    }\n",
       "\n",
       "    .dataframe thead th {\n",
       "        text-align: right;\n",
       "    }\n",
       "</style>\n",
       "<table border=\"1\" class=\"dataframe\">\n",
       "  <thead>\n",
       "    <tr style=\"text-align: right;\">\n",
       "      <th></th>\n",
       "      <th>id</th>\n",
       "      <th>satisfaction_level</th>\n",
       "      <th>last_evaluation</th>\n",
       "      <th>number_project</th>\n",
       "      <th>average_montly_hours</th>\n",
       "      <th>time_spend_company</th>\n",
       "      <th>Work_accident</th>\n",
       "      <th>churn</th>\n",
       "      <th>promotion_last_5years</th>\n",
       "      <th>dept</th>\n",
       "      <th>salary</th>\n",
       "    </tr>\n",
       "  </thead>\n",
       "  <tbody>\n",
       "    <tr>\n",
       "      <th>0</th>\n",
       "      <td>0</td>\n",
       "      <td>0.38</td>\n",
       "      <td>0.53</td>\n",
       "      <td>2</td>\n",
       "      <td>157</td>\n",
       "      <td>3</td>\n",
       "      <td>0</td>\n",
       "      <td>1</td>\n",
       "      <td>0</td>\n",
       "      <td>sales</td>\n",
       "      <td>low</td>\n",
       "    </tr>\n",
       "    <tr>\n",
       "      <th>1</th>\n",
       "      <td>1</td>\n",
       "      <td>0.80</td>\n",
       "      <td>0.86</td>\n",
       "      <td>5</td>\n",
       "      <td>262</td>\n",
       "      <td>6</td>\n",
       "      <td>0</td>\n",
       "      <td>1</td>\n",
       "      <td>0</td>\n",
       "      <td>sales</td>\n",
       "      <td>medium</td>\n",
       "    </tr>\n",
       "    <tr>\n",
       "      <th>2</th>\n",
       "      <td>2</td>\n",
       "      <td>0.11</td>\n",
       "      <td>0.88</td>\n",
       "      <td>7</td>\n",
       "      <td>272</td>\n",
       "      <td>4</td>\n",
       "      <td>0</td>\n",
       "      <td>1</td>\n",
       "      <td>0</td>\n",
       "      <td>sales</td>\n",
       "      <td>medium</td>\n",
       "    </tr>\n",
       "    <tr>\n",
       "      <th>3</th>\n",
       "      <td>3</td>\n",
       "      <td>0.72</td>\n",
       "      <td>0.87</td>\n",
       "      <td>5</td>\n",
       "      <td>223</td>\n",
       "      <td>5</td>\n",
       "      <td>0</td>\n",
       "      <td>1</td>\n",
       "      <td>0</td>\n",
       "      <td>sales</td>\n",
       "      <td>low</td>\n",
       "    </tr>\n",
       "    <tr>\n",
       "      <th>4</th>\n",
       "      <td>4</td>\n",
       "      <td>0.37</td>\n",
       "      <td>0.52</td>\n",
       "      <td>2</td>\n",
       "      <td>159</td>\n",
       "      <td>3</td>\n",
       "      <td>0</td>\n",
       "      <td>1</td>\n",
       "      <td>0</td>\n",
       "      <td>sales</td>\n",
       "      <td>low</td>\n",
       "    </tr>\n",
       "  </tbody>\n",
       "</table>\n",
       "</div>"
      ],
      "text/plain": [
       "   id  satisfaction_level  last_evaluation  number_project  \\\n",
       "0   0                0.38             0.53               2   \n",
       "1   1                0.80             0.86               5   \n",
       "2   2                0.11             0.88               7   \n",
       "3   3                0.72             0.87               5   \n",
       "4   4                0.37             0.52               2   \n",
       "\n",
       "   average_montly_hours  time_spend_company  Work_accident  churn  \\\n",
       "0                   157                   3              0      1   \n",
       "1                   262                   6              0      1   \n",
       "2                   272                   4              0      1   \n",
       "3                   223                   5              0      1   \n",
       "4                   159                   3              0      1   \n",
       "\n",
       "   promotion_last_5years   dept  salary  \n",
       "0                      0  sales     low  \n",
       "1                      0  sales  medium  \n",
       "2                      0  sales  medium  \n",
       "3                      0  sales     low  \n",
       "4                      0  sales     low  "
      ]
     },
     "execution_count": 7,
     "metadata": {},
     "output_type": "execute_result"
    }
   ],
   "source": [
    "df.head()"
   ]
  },
  {
   "cell_type": "code",
   "execution_count": 8,
   "metadata": {},
   "outputs": [
    {
     "data": {
      "text/html": [
       "<div>\n",
       "<style scoped>\n",
       "    .dataframe tbody tr th:only-of-type {\n",
       "        vertical-align: middle;\n",
       "    }\n",
       "\n",
       "    .dataframe tbody tr th {\n",
       "        vertical-align: top;\n",
       "    }\n",
       "\n",
       "    .dataframe thead th {\n",
       "        text-align: right;\n",
       "    }\n",
       "</style>\n",
       "<table border=\"1\" class=\"dataframe\">\n",
       "  <thead>\n",
       "    <tr style=\"text-align: right;\">\n",
       "      <th></th>\n",
       "      <th>Work_accident</th>\n",
       "      <th>churn</th>\n",
       "    </tr>\n",
       "  </thead>\n",
       "  <tbody>\n",
       "    <tr>\n",
       "      <th>0</th>\n",
       "      <td>0</td>\n",
       "      <td>0.265160</td>\n",
       "    </tr>\n",
       "    <tr>\n",
       "      <th>1</th>\n",
       "      <td>1</td>\n",
       "      <td>0.077916</td>\n",
       "    </tr>\n",
       "  </tbody>\n",
       "</table>\n",
       "</div>"
      ],
      "text/plain": [
       "   Work_accident     churn\n",
       "0              0  0.265160\n",
       "1              1  0.077916"
      ]
     },
     "execution_count": 8,
     "metadata": {},
     "output_type": "execute_result"
    }
   ],
   "source": [
    "df.groupby('Work_accident')['churn'].mean().reset_index()"
   ]
  },
  {
   "cell_type": "code",
   "execution_count": 9,
   "metadata": {},
   "outputs": [],
   "source": [
    "features = df.drop(columns=['id', 'churn'])\n",
    "num_columns = ['satisfaction_level',\n",
    "               'last_evaluation',\n",
    "               'average_montly_hours']\n",
    "cat_columns = ['number_project',\n",
    "               'time_spend_company',\n",
    "               'Work_accident',\n",
    "               'promotion_last_5years',\n",
    "               'dept',\n",
    "               'salary']"
   ]
  },
  {
   "cell_type": "code",
   "execution_count": 10,
   "metadata": {
    "scrolled": false
   },
   "outputs": [
    {
     "name": "stdout",
     "output_type": "stream",
     "text": [
      "satisfaction_level\n"
     ]
    },
    {
     "data": {
      "image/png": "[encoded data removed]",
      "text/plain": [
       "<Figure size 432x288 with 1 Axes>"
      ]
     },
     "metadata": {},
     "output_type": "display_data"
    },
    {
     "name": "stdout",
     "output_type": "stream",
     "text": [
      "last_evaluation\n"
     ]
    },
    {
     "data": {
      "image/png": "[encoded data removed]",
      "text/plain": [
       "<Figure size 432x288 with 1 Axes>"
      ]
     },
     "metadata": {},
     "output_type": "display_data"
    },
    {
     "name": "stdout",
     "output_type": "stream",
     "text": [
      "average_montly_hours\n"
     ]
    },
    {
     "data": {
      "image/png": "[encoded data removed]",
      "text/plain": [
       "<Figure size 432x288 with 1 Axes>"
      ]
     },
     "metadata": {},
     "output_type": "display_data"
    },
    {
     "name": "stdout",
     "output_type": "stream",
     "text": [
      "number_project\n"
     ]
    },
    {
     "data": {
      "image/png": "[encoded data removed]",
      "text/plain": [
       "<Figure size 432x288 with 1 Axes>"
      ]
     },
     "metadata": {},
     "output_type": "display_data"
    },
    {
     "name": "stdout",
     "output_type": "stream",
     "text": [
      "time_spend_company\n"
     ]
    },
    {
     "data": {
      "image/png": "[encoded data removed]",
      "text/plain": [
       "<Figure size 432x288 with 1 Axes>"
      ]
     },
     "metadata": {},
     "output_type": "display_data"
    },
    {
     "name": "stdout",
     "output_type": "stream",
     "text": [
      "Work_accident\n"
     ]
    },
    {
     "data": {
      "image/png": "[encoded data removed]",
      "text/plain": [
       "<Figure size 432x288 with 1 Axes>"
      ]
     },
     "metadata": {},
     "output_type": "display_data"
    },
    {
     "name": "stdout",
     "output_type": "stream",
     "text": [
      "promotion_last_5years\n"
     ]
    },
    {
     "data": {
      "image/png": "[encoded data removed]",
      "text/plain": [
       "<Figure size 432x288 with 1 Axes>"
      ]
     },
     "metadata": {},
     "output_type": "display_data"
    },
    {
     "name": "stdout",
     "output_type": "stream",
     "text": [
      "dept\n"
     ]
    },
    {
     "data": {
      "image/png": "[encoded data removed]",
      "text/plain": [
       "<Figure size 432x288 with 1 Axes>"
      ]
     },
     "metadata": {},
     "output_type": "display_data"
    },
    {
     "name": "stdout",
     "output_type": "stream",
     "text": [
      "salary\n"
     ]
    },
    {
     "data": {
      "image/png": "[encoded data removed]",
      "text/plain": [
       "<Figure size 432x288 with 1 Axes>"
      ]
     },
     "metadata": {},
     "output_type": "display_data"
    }
   ],
   "source": [
    "for col in features[num_columns]:\n",
    "    print(col)\n",
    "    sns.scatterplot(x=col,y='churn', data = df.groupby(col)['churn'].mean().reset_index())    \n",
    "    plt.show()\n",
    "    \n",
    "for col in features[cat_columns]:\n",
    "    print(col)\n",
    "    sns.barplot(x=col,y='churn', data = df.groupby(col)['churn'].mean().reset_index())    \n",
    "    plt.show()"
   ]
  },
  {
   "cell_type": "markdown",
   "metadata": {},
   "source": [
    "- There is no trend between churn rate and satisfaction level\n",
    "- There is no trend between churn rate and an employee's last evaluation\n",
    "- There is no trend between churn rate and average monthly hours\n",
    "\n",
    "\n",
    "- Employees with 7 projects all churn \n",
    "- After 5 years, employees are less likely to churn\n",
    "- Employees with less work accidents have a higher churn rate\n",
    "- Employees with less promotions in the past years have a higher churn rate\n",
    "- R&D and management have a lower churn rate; HR has the highest rate of churn\n",
    "- Low salary employees have a higher churn rate"
   ]
  },
  {
   "cell_type": "markdown",
   "metadata": {},
   "source": [
    "## Group numerical columns by clustering"
   ]
  },
  {
   "cell_type": "code",
   "execution_count": 11,
   "metadata": {},
   "outputs": [
    {
     "data": {
      "image/png": "[encoded data removed]",
      "text/plain": [
       "<Figure size 432x288 with 1 Axes>"
      ]
     },
     "metadata": {},
     "output_type": "display_data"
    }
   ],
   "source": [
    "sse = {}\n",
    "df_cluster = df[['satisfaction_level']]\n",
    "for k in range(1, 10):\n",
    "    kmeans = KMeans(n_clusters=k, max_iter=1000).fit(df_cluster)\n",
    "    df_cluster['clusters'] = kmeans.labels_\n",
    "    sse[k] = kmeans.inertia_ \n",
    "    \n",
    "plt.figure()\n",
    "plt.plot(list(sse.keys()), list(sse.values()))\n",
    "plt.xlabel('Number of cluster')\n",
    "plt.show()"
   ]
  },
  {
   "cell_type": "code",
   "execution_count": 12,
   "metadata": {},
   "outputs": [],
   "source": [
    "kmeans = KMeans(n_clusters=4)\n",
    "kmeans.fit(df[['satisfaction_level']])\n",
    "df['sat_level_cluster'] = kmeans.predict(df[['satisfaction_level']])"
   ]
  },
  {
   "cell_type": "code",
   "execution_count": 13,
   "metadata": {},
   "outputs": [
    {
     "data": {
      "text/html": [
       "<div>\n",
       "<style scoped>\n",
       "    .dataframe tbody tr th:only-of-type {\n",
       "        vertical-align: middle;\n",
       "    }\n",
       "\n",
       "    .dataframe tbody tr th {\n",
       "        vertical-align: top;\n",
       "    }\n",
       "\n",
       "    .dataframe thead th {\n",
       "        text-align: right;\n",
       "    }\n",
       "</style>\n",
       "<table border=\"1\" class=\"dataframe\">\n",
       "  <thead>\n",
       "    <tr style=\"text-align: right;\">\n",
       "      <th></th>\n",
       "      <th>count</th>\n",
       "      <th>mean</th>\n",
       "      <th>std</th>\n",
       "      <th>min</th>\n",
       "      <th>25%</th>\n",
       "      <th>50%</th>\n",
       "      <th>75%</th>\n",
       "      <th>max</th>\n",
       "    </tr>\n",
       "    <tr>\n",
       "      <th>sat_level_cluster</th>\n",
       "      <th></th>\n",
       "      <th></th>\n",
       "      <th></th>\n",
       "      <th></th>\n",
       "      <th></th>\n",
       "      <th></th>\n",
       "      <th></th>\n",
       "      <th></th>\n",
       "    </tr>\n",
       "  </thead>\n",
       "  <tbody>\n",
       "    <tr>\n",
       "      <th>0</th>\n",
       "      <td>4633.0</td>\n",
       "      <td>0.679361</td>\n",
       "      <td>0.064709</td>\n",
       "      <td>0.57</td>\n",
       "      <td>0.62</td>\n",
       "      <td>0.68</td>\n",
       "      <td>0.74</td>\n",
       "      <td>0.78</td>\n",
       "    </tr>\n",
       "    <tr>\n",
       "      <th>1</th>\n",
       "      <td>1941.0</td>\n",
       "      <td>0.155183</td>\n",
       "      <td>0.061473</td>\n",
       "      <td>0.09</td>\n",
       "      <td>0.10</td>\n",
       "      <td>0.13</td>\n",
       "      <td>0.20</td>\n",
       "      <td>0.30</td>\n",
       "    </tr>\n",
       "    <tr>\n",
       "      <th>2</th>\n",
       "      <td>3984.0</td>\n",
       "      <td>0.452093</td>\n",
       "      <td>0.067452</td>\n",
       "      <td>0.31</td>\n",
       "      <td>0.40</td>\n",
       "      <td>0.45</td>\n",
       "      <td>0.51</td>\n",
       "      <td>0.56</td>\n",
       "    </tr>\n",
       "    <tr>\n",
       "      <th>3</th>\n",
       "      <td>4441.0</td>\n",
       "      <td>0.887651</td>\n",
       "      <td>0.061710</td>\n",
       "      <td>0.79</td>\n",
       "      <td>0.83</td>\n",
       "      <td>0.89</td>\n",
       "      <td>0.94</td>\n",
       "      <td>1.00</td>\n",
       "    </tr>\n",
       "  </tbody>\n",
       "</table>\n",
       "</div>"
      ],
      "text/plain": [
       "                    count      mean       std   min   25%   50%   75%   max\n",
       "sat_level_cluster                                                          \n",
       "0                  4633.0  0.679361  0.064709  0.57  0.62  0.68  0.74  0.78\n",
       "1                  1941.0  0.155183  0.061473  0.09  0.10  0.13  0.20  0.30\n",
       "2                  3984.0  0.452093  0.067452  0.31  0.40  0.45  0.51  0.56\n",
       "3                  4441.0  0.887651  0.061710  0.79  0.83  0.89  0.94  1.00"
      ]
     },
     "execution_count": 13,
     "metadata": {},
     "output_type": "execute_result"
    }
   ],
   "source": [
    "df.groupby('sat_level_cluster')['satisfaction_level'].describe()"
   ]
  },
  {
   "cell_type": "code",
   "execution_count": 14,
   "metadata": {},
   "outputs": [],
   "source": [
    "df['sat_level_cluster'] = df['sat_level_cluster'].replace({1:'very unsatisfied',\n",
    "                                                           2:'unsatisfied',\n",
    "                                                           0:'satisfied',\n",
    "                                                           3:'very satisfied'})"
   ]
  },
  {
   "cell_type": "code",
   "execution_count": 16,
   "metadata": {},
   "outputs": [
    {
     "data": {
      "text/plain": [
       "<matplotlib.axes._subplots.AxesSubplot at 0x7f39f68b1358>"
      ]
     },
     "execution_count": 16,
     "metadata": {},
     "output_type": "execute_result"
    },
    {
     "data": {
      "image/png": "[encoded data removed]",
      "text/plain": [
       "<Figure size 432x288 with 1 Axes>"
      ]
     },
     "metadata": {},
     "output_type": "display_data"
    }
   ],
   "source": [
    "sns.barplot(x='sat_level_cluster',y='churn',data=df.groupby('sat_level_cluster')['churn'].mean().reset_index())"
   ]
  },
  {
   "cell_type": "markdown",
   "metadata": {},
   "source": [
    "- unsatisfied and very unsatisfied employees have higher rate of churn "
   ]
  },
  {
   "cell_type": "code",
   "execution_count": 17,
   "metadata": {},
   "outputs": [
    {
     "data": {
      "image/png": "[encoded data removed]",
      "text/plain": [
       "<Figure size 432x288 with 1 Axes>"
      ]
     },
     "metadata": {},
     "output_type": "display_data"
    }
   ],
   "source": [
    "sse = {}\n",
    "df_cluster = df[['last_evaluation']]\n",
    "for k in range(1, 10):\n",
    "    kmeans = KMeans(n_clusters=k, max_iter=1000).fit(df_cluster)\n",
    "    df_cluster['clusters'] = kmeans.labels_\n",
    "    sse[k] = kmeans.inertia_ \n",
    "    \n",
    "plt.figure()\n",
    "plt.plot(list(sse.keys()), list(sse.values()))\n",
    "plt.xlabel('Number of cluster')\n",
    "plt.show()"
   ]
  },
  {
   "cell_type": "code",
   "execution_count": 18,
   "metadata": {},
   "outputs": [],
   "source": [
    "kmeans = KMeans(n_clusters=4)\n",
    "kmeans.fit(df[['last_evaluation']])\n",
    "df['last_eval_cluster'] = kmeans.predict(df[['last_evaluation']])"
   ]
  },
  {
   "cell_type": "code",
   "execution_count": 19,
   "metadata": {},
   "outputs": [
    {
     "data": {
      "text/html": [
       "<div>\n",
       "<style scoped>\n",
       "    .dataframe tbody tr th:only-of-type {\n",
       "        vertical-align: middle;\n",
       "    }\n",
       "\n",
       "    .dataframe tbody tr th {\n",
       "        vertical-align: top;\n",
       "    }\n",
       "\n",
       "    .dataframe thead th {\n",
       "        text-align: right;\n",
       "    }\n",
       "</style>\n",
       "<table border=\"1\" class=\"dataframe\">\n",
       "  <thead>\n",
       "    <tr style=\"text-align: right;\">\n",
       "      <th></th>\n",
       "      <th>count</th>\n",
       "      <th>mean</th>\n",
       "      <th>std</th>\n",
       "      <th>min</th>\n",
       "      <th>25%</th>\n",
       "      <th>50%</th>\n",
       "      <th>75%</th>\n",
       "      <th>max</th>\n",
       "    </tr>\n",
       "    <tr>\n",
       "      <th>last_eval_cluster</th>\n",
       "      <th></th>\n",
       "      <th></th>\n",
       "      <th></th>\n",
       "      <th></th>\n",
       "      <th></th>\n",
       "      <th></th>\n",
       "      <th></th>\n",
       "      <th></th>\n",
       "    </tr>\n",
       "  </thead>\n",
       "  <tbody>\n",
       "    <tr>\n",
       "      <th>0</th>\n",
       "      <td>4118.0</td>\n",
       "      <td>0.928703</td>\n",
       "      <td>0.043407</td>\n",
       "      <td>0.86</td>\n",
       "      <td>0.89</td>\n",
       "      <td>0.93</td>\n",
       "      <td>0.97</td>\n",
       "      <td>1.00</td>\n",
       "    </tr>\n",
       "    <tr>\n",
       "      <th>1</th>\n",
       "      <td>3131.0</td>\n",
       "      <td>0.643098</td>\n",
       "      <td>0.039939</td>\n",
       "      <td>0.58</td>\n",
       "      <td>0.61</td>\n",
       "      <td>0.64</td>\n",
       "      <td>0.68</td>\n",
       "      <td>0.71</td>\n",
       "    </tr>\n",
       "    <tr>\n",
       "      <th>2</th>\n",
       "      <td>4262.0</td>\n",
       "      <td>0.505106</td>\n",
       "      <td>0.048529</td>\n",
       "      <td>0.36</td>\n",
       "      <td>0.48</td>\n",
       "      <td>0.51</td>\n",
       "      <td>0.54</td>\n",
       "      <td>0.57</td>\n",
       "    </tr>\n",
       "    <tr>\n",
       "      <th>3</th>\n",
       "      <td>3488.0</td>\n",
       "      <td>0.788449</td>\n",
       "      <td>0.040866</td>\n",
       "      <td>0.72</td>\n",
       "      <td>0.75</td>\n",
       "      <td>0.79</td>\n",
       "      <td>0.83</td>\n",
       "      <td>0.85</td>\n",
       "    </tr>\n",
       "  </tbody>\n",
       "</table>\n",
       "</div>"
      ],
      "text/plain": [
       "                    count      mean       std   min   25%   50%   75%   max\n",
       "last_eval_cluster                                                          \n",
       "0                  4118.0  0.928703  0.043407  0.86  0.89  0.93  0.97  1.00\n",
       "1                  3131.0  0.643098  0.039939  0.58  0.61  0.64  0.68  0.71\n",
       "2                  4262.0  0.505106  0.048529  0.36  0.48  0.51  0.54  0.57\n",
       "3                  3488.0  0.788449  0.040866  0.72  0.75  0.79  0.83  0.85"
      ]
     },
     "execution_count": 19,
     "metadata": {},
     "output_type": "execute_result"
    }
   ],
   "source": [
    "df.groupby('last_eval_cluster')['last_evaluation'].describe()"
   ]
  },
  {
   "cell_type": "code",
   "execution_count": 20,
   "metadata": {},
   "outputs": [],
   "source": [
    "df['last_eval_cluster'] = df['last_eval_cluster'].replace({2:'low performance',\n",
    "                                                           1:'average performance',\n",
    "                                                           3:'high performance',\n",
    "                                                           0:'very high performance'})"
   ]
  },
  {
   "cell_type": "code",
   "execution_count": 21,
   "metadata": {},
   "outputs": [
    {
     "data": {
      "text/plain": [
       "<matplotlib.axes._subplots.AxesSubplot at 0x7f39f6720240>"
      ]
     },
     "execution_count": 21,
     "metadata": {},
     "output_type": "execute_result"
    },
    {
     "data": {
      "image/png": "[encoded data removed]",
      "text/plain": [
       "<Figure size 432x288 with 1 Axes>"
      ]
     },
     "metadata": {},
     "output_type": "display_data"
    }
   ],
   "source": [
    "sns.barplot(x='last_eval_cluster',y='churn',data=df.groupby('last_eval_cluster')['churn'].mean().reset_index())"
   ]
  },
  {
   "cell_type": "markdown",
   "metadata": {},
   "source": [
    "- low performance employees have the highest rate of churn\n",
    "- interesting that average performance have a 2.5% rate of churn, meaning they rarely churn "
   ]
  },
  {
   "cell_type": "code",
   "execution_count": 22,
   "metadata": {},
   "outputs": [
    {
     "data": {
      "text/plain": [
       "last_eval_cluster\n",
       "average performance      0.026828\n",
       "high performance         0.167431\n",
       "low performance          0.374003\n",
       "very high performance    0.317873\n",
       "Name: churn, dtype: float64"
      ]
     },
     "execution_count": 22,
     "metadata": {},
     "output_type": "execute_result"
    }
   ],
   "source": [
    "df.groupby('last_eval_cluster')['churn'].mean()"
   ]
  },
  {
   "cell_type": "code",
   "execution_count": 23,
   "metadata": {},
   "outputs": [
    {
     "data": {
      "image/png": "[encoded data removed]",
      "text/plain": [
       "<Figure size 432x288 with 1 Axes>"
      ]
     },
     "metadata": {},
     "output_type": "display_data"
    }
   ],
   "source": [
    "sse = {}\n",
    "df_cluster = df[['average_montly_hours']]\n",
    "for k in range(1, 10):\n",
    "    kmeans = KMeans(n_clusters=k, max_iter=1000).fit(df_cluster)\n",
    "    df_cluster['clusters'] = kmeans.labels_\n",
    "    sse[k] = kmeans.inertia_ \n",
    "    \n",
    "plt.figure()\n",
    "plt.plot(list(sse.keys()), list(sse.values()))\n",
    "plt.xlabel('Number of cluster')\n",
    "plt.show()"
   ]
  },
  {
   "cell_type": "code",
   "execution_count": 28,
   "metadata": {},
   "outputs": [],
   "source": [
    "kmeans = KMeans(n_clusters=3)\n",
    "kmeans.fit(df[['average_montly_hours']])\n",
    "df['avg_month_hr_cluster'] = kmeans.predict(df[['average_montly_hours']])"
   ]
  },
  {
   "cell_type": "code",
   "execution_count": 29,
   "metadata": {},
   "outputs": [
    {
     "data": {
      "text/html": [
       "<div>\n",
       "<style scoped>\n",
       "    .dataframe tbody tr th:only-of-type {\n",
       "        vertical-align: middle;\n",
       "    }\n",
       "\n",
       "    .dataframe tbody tr th {\n",
       "        vertical-align: top;\n",
       "    }\n",
       "\n",
       "    .dataframe thead th {\n",
       "        text-align: right;\n",
       "    }\n",
       "</style>\n",
       "<table border=\"1\" class=\"dataframe\">\n",
       "  <thead>\n",
       "    <tr style=\"text-align: right;\">\n",
       "      <th></th>\n",
       "      <th>count</th>\n",
       "      <th>mean</th>\n",
       "      <th>std</th>\n",
       "      <th>min</th>\n",
       "      <th>25%</th>\n",
       "      <th>50%</th>\n",
       "      <th>75%</th>\n",
       "      <th>max</th>\n",
       "    </tr>\n",
       "    <tr>\n",
       "      <th>avg_month_hr_cluster</th>\n",
       "      <th></th>\n",
       "      <th></th>\n",
       "      <th></th>\n",
       "      <th></th>\n",
       "      <th></th>\n",
       "      <th></th>\n",
       "      <th></th>\n",
       "      <th></th>\n",
       "    </tr>\n",
       "  </thead>\n",
       "  <tbody>\n",
       "    <tr>\n",
       "      <th>0</th>\n",
       "      <td>4395.0</td>\n",
       "      <td>202.696701</td>\n",
       "      <td>16.424076</td>\n",
       "      <td>175.0</td>\n",
       "      <td>188.0</td>\n",
       "      <td>203.0</td>\n",
       "      <td>217.0</td>\n",
       "      <td>230.0</td>\n",
       "    </tr>\n",
       "    <tr>\n",
       "      <th>1</th>\n",
       "      <td>5104.0</td>\n",
       "      <td>258.326607</td>\n",
       "      <td>17.709606</td>\n",
       "      <td>231.0</td>\n",
       "      <td>244.0</td>\n",
       "      <td>257.0</td>\n",
       "      <td>269.0</td>\n",
       "      <td>310.0</td>\n",
       "    </tr>\n",
       "    <tr>\n",
       "      <th>2</th>\n",
       "      <td>5500.0</td>\n",
       "      <td>146.582364</td>\n",
       "      <td>16.793536</td>\n",
       "      <td>96.0</td>\n",
       "      <td>136.0</td>\n",
       "      <td>148.0</td>\n",
       "      <td>159.0</td>\n",
       "      <td>174.0</td>\n",
       "    </tr>\n",
       "  </tbody>\n",
       "</table>\n",
       "</div>"
      ],
      "text/plain": [
       "                       count        mean        std    min    25%    50%  \\\n",
       "avg_month_hr_cluster                                                       \n",
       "0                     4395.0  202.696701  16.424076  175.0  188.0  203.0   \n",
       "1                     5104.0  258.326607  17.709606  231.0  244.0  257.0   \n",
       "2                     5500.0  146.582364  16.793536   96.0  136.0  148.0   \n",
       "\n",
       "                        75%    max  \n",
       "avg_month_hr_cluster                \n",
       "0                     217.0  230.0  \n",
       "1                     269.0  310.0  \n",
       "2                     159.0  174.0  "
      ]
     },
     "execution_count": 29,
     "metadata": {},
     "output_type": "execute_result"
    }
   ],
   "source": [
    "df.groupby('avg_month_hr_cluster')['average_montly_hours'].describe()"
   ]
  },
  {
   "cell_type": "code",
   "execution_count": 30,
   "metadata": {},
   "outputs": [],
   "source": [
    "df['avg_month_hr_cluster'] = df['avg_month_hr_cluster'].replace({2:'low hr',\n",
    "                                                                 0:'med hr',\n",
    "                                                                 1:'high hr'})"
   ]
  },
  {
   "cell_type": "code",
   "execution_count": 31,
   "metadata": {},
   "outputs": [
    {
     "data": {
      "text/plain": [
       "<matplotlib.axes._subplots.AxesSubplot at 0x7f39f68c7fd0>"
      ]
     },
     "execution_count": 31,
     "metadata": {},
     "output_type": "execute_result"
    },
    {
     "data": {
      "image/png": "[encoded data removed]",
      "text/plain": [
       "<Figure size 432x288 with 1 Axes>"
      ]
     },
     "metadata": {},
     "output_type": "display_data"
    }
   ],
   "source": [
    "sns.barplot(x='avg_month_hr_cluster',y='churn',data=df.groupby('avg_month_hr_cluster')['churn'].mean().reset_index())"
   ]
  },
  {
   "cell_type": "markdown",
   "metadata": {},
   "source": [
    "- Employees who are overworked or don't work enough hours have a higher rate of churn"
   ]
  },
  {
   "cell_type": "code",
   "execution_count": 32,
   "metadata": {},
   "outputs": [
    {
     "data": {
      "text/html": [
       "<div>\n",
       "<style scoped>\n",
       "    .dataframe tbody tr th:only-of-type {\n",
       "        vertical-align: middle;\n",
       "    }\n",
       "\n",
       "    .dataframe tbody tr th {\n",
       "        vertical-align: top;\n",
       "    }\n",
       "\n",
       "    .dataframe thead th {\n",
       "        text-align: right;\n",
       "    }\n",
       "</style>\n",
       "<table border=\"1\" class=\"dataframe\">\n",
       "  <thead>\n",
       "    <tr style=\"text-align: right;\">\n",
       "      <th></th>\n",
       "      <th>id</th>\n",
       "      <th>satisfaction_level</th>\n",
       "      <th>last_evaluation</th>\n",
       "      <th>number_project</th>\n",
       "      <th>average_montly_hours</th>\n",
       "      <th>time_spend_company</th>\n",
       "      <th>Work_accident</th>\n",
       "      <th>churn</th>\n",
       "      <th>promotion_last_5years</th>\n",
       "      <th>dept</th>\n",
       "      <th>salary</th>\n",
       "      <th>sat_level_cluster</th>\n",
       "      <th>last_eval_cluster</th>\n",
       "      <th>avg_month_hr_cluster</th>\n",
       "    </tr>\n",
       "  </thead>\n",
       "  <tbody>\n",
       "    <tr>\n",
       "      <th>0</th>\n",
       "      <td>0</td>\n",
       "      <td>0.38</td>\n",
       "      <td>0.53</td>\n",
       "      <td>2</td>\n",
       "      <td>157</td>\n",
       "      <td>3</td>\n",
       "      <td>0</td>\n",
       "      <td>1</td>\n",
       "      <td>0</td>\n",
       "      <td>sales</td>\n",
       "      <td>low</td>\n",
       "      <td>unsatisfied</td>\n",
       "      <td>low performance</td>\n",
       "      <td>low hr</td>\n",
       "    </tr>\n",
       "    <tr>\n",
       "      <th>1</th>\n",
       "      <td>1</td>\n",
       "      <td>0.80</td>\n",
       "      <td>0.86</td>\n",
       "      <td>5</td>\n",
       "      <td>262</td>\n",
       "      <td>6</td>\n",
       "      <td>0</td>\n",
       "      <td>1</td>\n",
       "      <td>0</td>\n",
       "      <td>sales</td>\n",
       "      <td>medium</td>\n",
       "      <td>very satisfied</td>\n",
       "      <td>very high performance</td>\n",
       "      <td>high hr</td>\n",
       "    </tr>\n",
       "    <tr>\n",
       "      <th>2</th>\n",
       "      <td>2</td>\n",
       "      <td>0.11</td>\n",
       "      <td>0.88</td>\n",
       "      <td>7</td>\n",
       "      <td>272</td>\n",
       "      <td>4</td>\n",
       "      <td>0</td>\n",
       "      <td>1</td>\n",
       "      <td>0</td>\n",
       "      <td>sales</td>\n",
       "      <td>medium</td>\n",
       "      <td>very unsatisfied</td>\n",
       "      <td>very high performance</td>\n",
       "      <td>high hr</td>\n",
       "    </tr>\n",
       "    <tr>\n",
       "      <th>3</th>\n",
       "      <td>3</td>\n",
       "      <td>0.72</td>\n",
       "      <td>0.87</td>\n",
       "      <td>5</td>\n",
       "      <td>223</td>\n",
       "      <td>5</td>\n",
       "      <td>0</td>\n",
       "      <td>1</td>\n",
       "      <td>0</td>\n",
       "      <td>sales</td>\n",
       "      <td>low</td>\n",
       "      <td>satisfied</td>\n",
       "      <td>very high performance</td>\n",
       "      <td>med hr</td>\n",
       "    </tr>\n",
       "    <tr>\n",
       "      <th>4</th>\n",
       "      <td>4</td>\n",
       "      <td>0.37</td>\n",
       "      <td>0.52</td>\n",
       "      <td>2</td>\n",
       "      <td>159</td>\n",
       "      <td>3</td>\n",
       "      <td>0</td>\n",
       "      <td>1</td>\n",
       "      <td>0</td>\n",
       "      <td>sales</td>\n",
       "      <td>low</td>\n",
       "      <td>unsatisfied</td>\n",
       "      <td>low performance</td>\n",
       "      <td>low hr</td>\n",
       "    </tr>\n",
       "  </tbody>\n",
       "</table>\n",
       "</div>"
      ],
      "text/plain": [
       "   id  satisfaction_level  last_evaluation  number_project  \\\n",
       "0   0                0.38             0.53               2   \n",
       "1   1                0.80             0.86               5   \n",
       "2   2                0.11             0.88               7   \n",
       "3   3                0.72             0.87               5   \n",
       "4   4                0.37             0.52               2   \n",
       "\n",
       "   average_montly_hours  time_spend_company  Work_accident  churn  \\\n",
       "0                   157                   3              0      1   \n",
       "1                   262                   6              0      1   \n",
       "2                   272                   4              0      1   \n",
       "3                   223                   5              0      1   \n",
       "4                   159                   3              0      1   \n",
       "\n",
       "   promotion_last_5years   dept  salary sat_level_cluster  \\\n",
       "0                      0  sales     low       unsatisfied   \n",
       "1                      0  sales  medium    very satisfied   \n",
       "2                      0  sales  medium  very unsatisfied   \n",
       "3                      0  sales     low         satisfied   \n",
       "4                      0  sales     low       unsatisfied   \n",
       "\n",
       "       last_eval_cluster avg_month_hr_cluster  \n",
       "0        low performance               low hr  \n",
       "1  very high performance              high hr  \n",
       "2  very high performance              high hr  \n",
       "3  very high performance               med hr  \n",
       "4        low performance               low hr  "
      ]
     },
     "execution_count": 32,
     "metadata": {},
     "output_type": "execute_result"
    }
   ],
   "source": [
    "df.head()"
   ]
  },
  {
   "cell_type": "markdown",
   "metadata": {},
   "source": [
    "We've made 3 new features."
   ]
  },
  {
   "cell_type": "code",
   "execution_count": 33,
   "metadata": {},
   "outputs": [],
   "source": [
    "# PolynomialFeatures only makes sense to use with numerical variables\n",
    "# Let's drop the categorical or useless variables (i.e. id)\n",
    "X = df.drop(columns=['id',\n",
    "                     'Work_accident', \n",
    "                     'churn', \n",
    "                     'promotion_last_5years', \n",
    "                     'dept', \n",
    "                     'salary', \n",
    "                     'sat_level_cluster',\n",
    "                     'last_eval_cluster',\n",
    "                     'avg_month_hr_cluster'])"
   ]
  },
  {
   "cell_type": "code",
   "execution_count": 34,
   "metadata": {},
   "outputs": [
    {
     "data": {
      "text/html": [
       "<div>\n",
       "<style scoped>\n",
       "    .dataframe tbody tr th:only-of-type {\n",
       "        vertical-align: middle;\n",
       "    }\n",
       "\n",
       "    .dataframe tbody tr th {\n",
       "        vertical-align: top;\n",
       "    }\n",
       "\n",
       "    .dataframe thead th {\n",
       "        text-align: right;\n",
       "    }\n",
       "</style>\n",
       "<table border=\"1\" class=\"dataframe\">\n",
       "  <thead>\n",
       "    <tr style=\"text-align: right;\">\n",
       "      <th></th>\n",
       "      <th>satisfaction_level</th>\n",
       "      <th>last_evaluation</th>\n",
       "      <th>number_project</th>\n",
       "      <th>average_montly_hours</th>\n",
       "      <th>time_spend_company</th>\n",
       "    </tr>\n",
       "  </thead>\n",
       "  <tbody>\n",
       "    <tr>\n",
       "      <th>0</th>\n",
       "      <td>0.38</td>\n",
       "      <td>0.53</td>\n",
       "      <td>2</td>\n",
       "      <td>157</td>\n",
       "      <td>3</td>\n",
       "    </tr>\n",
       "    <tr>\n",
       "      <th>1</th>\n",
       "      <td>0.80</td>\n",
       "      <td>0.86</td>\n",
       "      <td>5</td>\n",
       "      <td>262</td>\n",
       "      <td>6</td>\n",
       "    </tr>\n",
       "    <tr>\n",
       "      <th>2</th>\n",
       "      <td>0.11</td>\n",
       "      <td>0.88</td>\n",
       "      <td>7</td>\n",
       "      <td>272</td>\n",
       "      <td>4</td>\n",
       "    </tr>\n",
       "    <tr>\n",
       "      <th>3</th>\n",
       "      <td>0.72</td>\n",
       "      <td>0.87</td>\n",
       "      <td>5</td>\n",
       "      <td>223</td>\n",
       "      <td>5</td>\n",
       "    </tr>\n",
       "    <tr>\n",
       "      <th>4</th>\n",
       "      <td>0.37</td>\n",
       "      <td>0.52</td>\n",
       "      <td>2</td>\n",
       "      <td>159</td>\n",
       "      <td>3</td>\n",
       "    </tr>\n",
       "  </tbody>\n",
       "</table>\n",
       "</div>"
      ],
      "text/plain": [
       "   satisfaction_level  last_evaluation  number_project  average_montly_hours  \\\n",
       "0                0.38             0.53               2                   157   \n",
       "1                0.80             0.86               5                   262   \n",
       "2                0.11             0.88               7                   272   \n",
       "3                0.72             0.87               5                   223   \n",
       "4                0.37             0.52               2                   159   \n",
       "\n",
       "   time_spend_company  \n",
       "0                   3  \n",
       "1                   6  \n",
       "2                   4  \n",
       "3                   5  \n",
       "4                   3  "
      ]
     },
     "execution_count": 34,
     "metadata": {},
     "output_type": "execute_result"
    }
   ],
   "source": [
    "X.head()"
   ]
  },
  {
   "cell_type": "code",
   "execution_count": 35,
   "metadata": {},
   "outputs": [],
   "source": [
    "poly = PolynomialFeatures(2, interaction_only=True, include_bias=False)"
   ]
  },
  {
   "cell_type": "code",
   "execution_count": 36,
   "metadata": {},
   "outputs": [],
   "source": [
    "arr_poly = poly.fit_transform(X)"
   ]
  },
  {
   "cell_type": "code",
   "execution_count": 37,
   "metadata": {},
   "outputs": [],
   "source": [
    "df_poly = pd.DataFrame(arr_poly)"
   ]
  },
  {
   "cell_type": "code",
   "execution_count": 38,
   "metadata": {},
   "outputs": [
    {
     "data": {
      "text/html": [
       "<div>\n",
       "<style scoped>\n",
       "    .dataframe tbody tr th:only-of-type {\n",
       "        vertical-align: middle;\n",
       "    }\n",
       "\n",
       "    .dataframe tbody tr th {\n",
       "        vertical-align: top;\n",
       "    }\n",
       "\n",
       "    .dataframe thead th {\n",
       "        text-align: right;\n",
       "    }\n",
       "</style>\n",
       "<table border=\"1\" class=\"dataframe\">\n",
       "  <thead>\n",
       "    <tr style=\"text-align: right;\">\n",
       "      <th></th>\n",
       "      <th>0</th>\n",
       "      <th>1</th>\n",
       "      <th>2</th>\n",
       "      <th>3</th>\n",
       "      <th>4</th>\n",
       "      <th>5</th>\n",
       "      <th>6</th>\n",
       "      <th>7</th>\n",
       "      <th>8</th>\n",
       "      <th>9</th>\n",
       "      <th>10</th>\n",
       "      <th>11</th>\n",
       "      <th>12</th>\n",
       "      <th>13</th>\n",
       "      <th>14</th>\n",
       "    </tr>\n",
       "  </thead>\n",
       "  <tbody>\n",
       "    <tr>\n",
       "      <th>0</th>\n",
       "      <td>0.38</td>\n",
       "      <td>0.53</td>\n",
       "      <td>2.0</td>\n",
       "      <td>157.0</td>\n",
       "      <td>3.0</td>\n",
       "      <td>0.2014</td>\n",
       "      <td>0.76</td>\n",
       "      <td>59.66</td>\n",
       "      <td>1.14</td>\n",
       "      <td>1.06</td>\n",
       "      <td>83.21</td>\n",
       "      <td>1.59</td>\n",
       "      <td>314.0</td>\n",
       "      <td>6.0</td>\n",
       "      <td>471.0</td>\n",
       "    </tr>\n",
       "    <tr>\n",
       "      <th>1</th>\n",
       "      <td>0.80</td>\n",
       "      <td>0.86</td>\n",
       "      <td>5.0</td>\n",
       "      <td>262.0</td>\n",
       "      <td>6.0</td>\n",
       "      <td>0.6880</td>\n",
       "      <td>4.00</td>\n",
       "      <td>209.60</td>\n",
       "      <td>4.80</td>\n",
       "      <td>4.30</td>\n",
       "      <td>225.32</td>\n",
       "      <td>5.16</td>\n",
       "      <td>1310.0</td>\n",
       "      <td>30.0</td>\n",
       "      <td>1572.0</td>\n",
       "    </tr>\n",
       "    <tr>\n",
       "      <th>2</th>\n",
       "      <td>0.11</td>\n",
       "      <td>0.88</td>\n",
       "      <td>7.0</td>\n",
       "      <td>272.0</td>\n",
       "      <td>4.0</td>\n",
       "      <td>0.0968</td>\n",
       "      <td>0.77</td>\n",
       "      <td>29.92</td>\n",
       "      <td>0.44</td>\n",
       "      <td>6.16</td>\n",
       "      <td>239.36</td>\n",
       "      <td>3.52</td>\n",
       "      <td>1904.0</td>\n",
       "      <td>28.0</td>\n",
       "      <td>1088.0</td>\n",
       "    </tr>\n",
       "    <tr>\n",
       "      <th>3</th>\n",
       "      <td>0.72</td>\n",
       "      <td>0.87</td>\n",
       "      <td>5.0</td>\n",
       "      <td>223.0</td>\n",
       "      <td>5.0</td>\n",
       "      <td>0.6264</td>\n",
       "      <td>3.60</td>\n",
       "      <td>160.56</td>\n",
       "      <td>3.60</td>\n",
       "      <td>4.35</td>\n",
       "      <td>194.01</td>\n",
       "      <td>4.35</td>\n",
       "      <td>1115.0</td>\n",
       "      <td>25.0</td>\n",
       "      <td>1115.0</td>\n",
       "    </tr>\n",
       "    <tr>\n",
       "      <th>4</th>\n",
       "      <td>0.37</td>\n",
       "      <td>0.52</td>\n",
       "      <td>2.0</td>\n",
       "      <td>159.0</td>\n",
       "      <td>3.0</td>\n",
       "      <td>0.1924</td>\n",
       "      <td>0.74</td>\n",
       "      <td>58.83</td>\n",
       "      <td>1.11</td>\n",
       "      <td>1.04</td>\n",
       "      <td>82.68</td>\n",
       "      <td>1.56</td>\n",
       "      <td>318.0</td>\n",
       "      <td>6.0</td>\n",
       "      <td>477.0</td>\n",
       "    </tr>\n",
       "  </tbody>\n",
       "</table>\n",
       "</div>"
      ],
      "text/plain": [
       "      0     1    2      3    4       5     6       7     8     9      10  \\\n",
       "0  0.38  0.53  2.0  157.0  3.0  0.2014  0.76   59.66  1.14  1.06   83.21   \n",
       "1  0.80  0.86  5.0  262.0  6.0  0.6880  4.00  209.60  4.80  4.30  225.32   \n",
       "2  0.11  0.88  7.0  272.0  4.0  0.0968  0.77   29.92  0.44  6.16  239.36   \n",
       "3  0.72  0.87  5.0  223.0  5.0  0.6264  3.60  160.56  3.60  4.35  194.01   \n",
       "4  0.37  0.52  2.0  159.0  3.0  0.1924  0.74   58.83  1.11  1.04   82.68   \n",
       "\n",
       "     11      12    13      14  \n",
       "0  1.59   314.0   6.0   471.0  \n",
       "1  5.16  1310.0  30.0  1572.0  \n",
       "2  3.52  1904.0  28.0  1088.0  \n",
       "3  4.35  1115.0  25.0  1115.0  \n",
       "4  1.56   318.0   6.0   477.0  "
      ]
     },
     "execution_count": 38,
     "metadata": {},
     "output_type": "execute_result"
    }
   ],
   "source": [
    "df_poly.head()"
   ]
  },
  {
   "cell_type": "code",
   "execution_count": 39,
   "metadata": {},
   "outputs": [],
   "source": [
    "create_feature_names = ['x'.join(['{}^{}'.format(pair[0],pair[1]) for pair in tuple if pair[1]!=0]) for tuple in [zip(X,p) for p in poly.powers_ ]]"
   ]
  },
  {
   "cell_type": "code",
   "execution_count": 40,
   "metadata": {},
   "outputs": [],
   "source": [
    "df_poly.columns = create_feature_names"
   ]
  },
  {
   "cell_type": "code",
   "execution_count": 41,
   "metadata": {},
   "outputs": [
    {
     "data": {
      "text/plain": [
       "Index(['satisfaction_level^1', 'last_evaluation^1', 'number_project^1',\n",
       "       'average_montly_hours^1', 'time_spend_company^1',\n",
       "       'satisfaction_level^1xlast_evaluation^1',\n",
       "       'satisfaction_level^1xnumber_project^1',\n",
       "       'satisfaction_level^1xaverage_montly_hours^1',\n",
       "       'satisfaction_level^1xtime_spend_company^1',\n",
       "       'last_evaluation^1xnumber_project^1',\n",
       "       'last_evaluation^1xaverage_montly_hours^1',\n",
       "       'last_evaluation^1xtime_spend_company^1',\n",
       "       'number_project^1xaverage_montly_hours^1',\n",
       "       'number_project^1xtime_spend_company^1',\n",
       "       'average_montly_hours^1xtime_spend_company^1'],\n",
       "      dtype='object')"
      ]
     },
     "execution_count": 41,
     "metadata": {},
     "output_type": "execute_result"
    }
   ],
   "source": [
    "df_poly.columns"
   ]
  },
  {
   "cell_type": "code",
   "execution_count": 42,
   "metadata": {},
   "outputs": [],
   "source": [
    "df_poly = df_poly.iloc[:,5:] #just the interaction terms"
   ]
  },
  {
   "cell_type": "code",
   "execution_count": 43,
   "metadata": {},
   "outputs": [],
   "source": [
    "df_poly['id'] = df['id']"
   ]
  },
  {
   "cell_type": "code",
   "execution_count": 44,
   "metadata": {},
   "outputs": [],
   "source": [
    "df_for_preprocessing = df.merge(df_poly) #merges on id"
   ]
  },
  {
   "cell_type": "code",
   "execution_count": 45,
   "metadata": {
    "scrolled": true
   },
   "outputs": [
    {
     "data": {
      "text/html": [
       "<div>\n",
       "<style scoped>\n",
       "    .dataframe tbody tr th:only-of-type {\n",
       "        vertical-align: middle;\n",
       "    }\n",
       "\n",
       "    .dataframe tbody tr th {\n",
       "        vertical-align: top;\n",
       "    }\n",
       "\n",
       "    .dataframe thead th {\n",
       "        text-align: right;\n",
       "    }\n",
       "</style>\n",
       "<table border=\"1\" class=\"dataframe\">\n",
       "  <thead>\n",
       "    <tr style=\"text-align: right;\">\n",
       "      <th></th>\n",
       "      <th>id</th>\n",
       "      <th>satisfaction_level</th>\n",
       "      <th>last_evaluation</th>\n",
       "      <th>number_project</th>\n",
       "      <th>average_montly_hours</th>\n",
       "      <th>time_spend_company</th>\n",
       "      <th>Work_accident</th>\n",
       "      <th>churn</th>\n",
       "      <th>promotion_last_5years</th>\n",
       "      <th>dept</th>\n",
       "      <th>salary</th>\n",
       "      <th>sat_level_cluster</th>\n",
       "      <th>last_eval_cluster</th>\n",
       "      <th>avg_month_hr_cluster</th>\n",
       "      <th>satisfaction_level^1xlast_evaluation^1</th>\n",
       "      <th>satisfaction_level^1xnumber_project^1</th>\n",
       "      <th>satisfaction_level^1xaverage_montly_hours^1</th>\n",
       "      <th>satisfaction_level^1xtime_spend_company^1</th>\n",
       "      <th>last_evaluation^1xnumber_project^1</th>\n",
       "      <th>last_evaluation^1xaverage_montly_hours^1</th>\n",
       "      <th>last_evaluation^1xtime_spend_company^1</th>\n",
       "      <th>number_project^1xaverage_montly_hours^1</th>\n",
       "      <th>number_project^1xtime_spend_company^1</th>\n",
       "      <th>average_montly_hours^1xtime_spend_company^1</th>\n",
       "    </tr>\n",
       "  </thead>\n",
       "  <tbody>\n",
       "    <tr>\n",
       "      <th>0</th>\n",
       "      <td>0</td>\n",
       "      <td>0.38</td>\n",
       "      <td>0.53</td>\n",
       "      <td>2</td>\n",
       "      <td>157</td>\n",
       "      <td>3</td>\n",
       "      <td>0</td>\n",
       "      <td>1</td>\n",
       "      <td>0</td>\n",
       "      <td>sales</td>\n",
       "      <td>low</td>\n",
       "      <td>unsatisfied</td>\n",
       "      <td>low performance</td>\n",
       "      <td>low hr</td>\n",
       "      <td>0.2014</td>\n",
       "      <td>0.76</td>\n",
       "      <td>59.66</td>\n",
       "      <td>1.14</td>\n",
       "      <td>1.06</td>\n",
       "      <td>83.21</td>\n",
       "      <td>1.59</td>\n",
       "      <td>314.0</td>\n",
       "      <td>6.0</td>\n",
       "      <td>471.0</td>\n",
       "    </tr>\n",
       "    <tr>\n",
       "      <th>1</th>\n",
       "      <td>1</td>\n",
       "      <td>0.80</td>\n",
       "      <td>0.86</td>\n",
       "      <td>5</td>\n",
       "      <td>262</td>\n",
       "      <td>6</td>\n",
       "      <td>0</td>\n",
       "      <td>1</td>\n",
       "      <td>0</td>\n",
       "      <td>sales</td>\n",
       "      <td>medium</td>\n",
       "      <td>very satisfied</td>\n",
       "      <td>very high performance</td>\n",
       "      <td>high hr</td>\n",
       "      <td>0.6880</td>\n",
       "      <td>4.00</td>\n",
       "      <td>209.60</td>\n",
       "      <td>4.80</td>\n",
       "      <td>4.30</td>\n",
       "      <td>225.32</td>\n",
       "      <td>5.16</td>\n",
       "      <td>1310.0</td>\n",
       "      <td>30.0</td>\n",
       "      <td>1572.0</td>\n",
       "    </tr>\n",
       "    <tr>\n",
       "      <th>2</th>\n",
       "      <td>2</td>\n",
       "      <td>0.11</td>\n",
       "      <td>0.88</td>\n",
       "      <td>7</td>\n",
       "      <td>272</td>\n",
       "      <td>4</td>\n",
       "      <td>0</td>\n",
       "      <td>1</td>\n",
       "      <td>0</td>\n",
       "      <td>sales</td>\n",
       "      <td>medium</td>\n",
       "      <td>very unsatisfied</td>\n",
       "      <td>very high performance</td>\n",
       "      <td>high hr</td>\n",
       "      <td>0.0968</td>\n",
       "      <td>0.77</td>\n",
       "      <td>29.92</td>\n",
       "      <td>0.44</td>\n",
       "      <td>6.16</td>\n",
       "      <td>239.36</td>\n",
       "      <td>3.52</td>\n",
       "      <td>1904.0</td>\n",
       "      <td>28.0</td>\n",
       "      <td>1088.0</td>\n",
       "    </tr>\n",
       "    <tr>\n",
       "      <th>3</th>\n",
       "      <td>3</td>\n",
       "      <td>0.72</td>\n",
       "      <td>0.87</td>\n",
       "      <td>5</td>\n",
       "      <td>223</td>\n",
       "      <td>5</td>\n",
       "      <td>0</td>\n",
       "      <td>1</td>\n",
       "      <td>0</td>\n",
       "      <td>sales</td>\n",
       "      <td>low</td>\n",
       "      <td>satisfied</td>\n",
       "      <td>very high performance</td>\n",
       "      <td>med hr</td>\n",
       "      <td>0.6264</td>\n",
       "      <td>3.60</td>\n",
       "      <td>160.56</td>\n",
       "      <td>3.60</td>\n",
       "      <td>4.35</td>\n",
       "      <td>194.01</td>\n",
       "      <td>4.35</td>\n",
       "      <td>1115.0</td>\n",
       "      <td>25.0</td>\n",
       "      <td>1115.0</td>\n",
       "    </tr>\n",
       "    <tr>\n",
       "      <th>4</th>\n",
       "      <td>4</td>\n",
       "      <td>0.37</td>\n",
       "      <td>0.52</td>\n",
       "      <td>2</td>\n",
       "      <td>159</td>\n",
       "      <td>3</td>\n",
       "      <td>0</td>\n",
       "      <td>1</td>\n",
       "      <td>0</td>\n",
       "      <td>sales</td>\n",
       "      <td>low</td>\n",
       "      <td>unsatisfied</td>\n",
       "      <td>low performance</td>\n",
       "      <td>low hr</td>\n",
       "      <td>0.1924</td>\n",
       "      <td>0.74</td>\n",
       "      <td>58.83</td>\n",
       "      <td>1.11</td>\n",
       "      <td>1.04</td>\n",
       "      <td>82.68</td>\n",
       "      <td>1.56</td>\n",
       "      <td>318.0</td>\n",
       "      <td>6.0</td>\n",
       "      <td>477.0</td>\n",
       "    </tr>\n",
       "  </tbody>\n",
       "</table>\n",
       "</div>"
      ],
      "text/plain": [
       "   id  satisfaction_level  last_evaluation  number_project  \\\n",
       "0   0                0.38             0.53               2   \n",
       "1   1                0.80             0.86               5   \n",
       "2   2                0.11             0.88               7   \n",
       "3   3                0.72             0.87               5   \n",
       "4   4                0.37             0.52               2   \n",
       "\n",
       "   average_montly_hours  time_spend_company  Work_accident  churn  \\\n",
       "0                   157                   3              0      1   \n",
       "1                   262                   6              0      1   \n",
       "2                   272                   4              0      1   \n",
       "3                   223                   5              0      1   \n",
       "4                   159                   3              0      1   \n",
       "\n",
       "   promotion_last_5years   dept  salary sat_level_cluster  \\\n",
       "0                      0  sales     low       unsatisfied   \n",
       "1                      0  sales  medium    very satisfied   \n",
       "2                      0  sales  medium  very unsatisfied   \n",
       "3                      0  sales     low         satisfied   \n",
       "4                      0  sales     low       unsatisfied   \n",
       "\n",
       "       last_eval_cluster avg_month_hr_cluster  \\\n",
       "0        low performance               low hr   \n",
       "1  very high performance              high hr   \n",
       "2  very high performance              high hr   \n",
       "3  very high performance               med hr   \n",
       "4        low performance               low hr   \n",
       "\n",
       "   satisfaction_level^1xlast_evaluation^1  \\\n",
       "0                                  0.2014   \n",
       "1                                  0.6880   \n",
       "2                                  0.0968   \n",
       "3                                  0.6264   \n",
       "4                                  0.1924   \n",
       "\n",
       "   satisfaction_level^1xnumber_project^1  \\\n",
       "0                                   0.76   \n",
       "1                                   4.00   \n",
       "2                                   0.77   \n",
       "3                                   3.60   \n",
       "4                                   0.74   \n",
       "\n",
       "   satisfaction_level^1xaverage_montly_hours^1  \\\n",
       "0                                        59.66   \n",
       "1                                       209.60   \n",
       "2                                        29.92   \n",
       "3                                       160.56   \n",
       "4                                        58.83   \n",
       "\n",
       "   satisfaction_level^1xtime_spend_company^1  \\\n",
       "0                                       1.14   \n",
       "1                                       4.80   \n",
       "2                                       0.44   \n",
       "3                                       3.60   \n",
       "4                                       1.11   \n",
       "\n",
       "   last_evaluation^1xnumber_project^1  \\\n",
       "0                                1.06   \n",
       "1                                4.30   \n",
       "2                                6.16   \n",
       "3                                4.35   \n",
       "4                                1.04   \n",
       "\n",
       "   last_evaluation^1xaverage_montly_hours^1  \\\n",
       "0                                     83.21   \n",
       "1                                    225.32   \n",
       "2                                    239.36   \n",
       "3                                    194.01   \n",
       "4                                     82.68   \n",
       "\n",
       "   last_evaluation^1xtime_spend_company^1  \\\n",
       "0                                    1.59   \n",
       "1                                    5.16   \n",
       "2                                    3.52   \n",
       "3                                    4.35   \n",
       "4                                    1.56   \n",
       "\n",
       "   number_project^1xaverage_montly_hours^1  \\\n",
       "0                                    314.0   \n",
       "1                                   1310.0   \n",
       "2                                   1904.0   \n",
       "3                                   1115.0   \n",
       "4                                    318.0   \n",
       "\n",
       "   number_project^1xtime_spend_company^1  \\\n",
       "0                                    6.0   \n",
       "1                                   30.0   \n",
       "2                                   28.0   \n",
       "3                                   25.0   \n",
       "4                                    6.0   \n",
       "\n",
       "   average_montly_hours^1xtime_spend_company^1  \n",
       "0                                        471.0  \n",
       "1                                       1572.0  \n",
       "2                                       1088.0  \n",
       "3                                       1115.0  \n",
       "4                                        477.0  "
      ]
     },
     "execution_count": 45,
     "metadata": {},
     "output_type": "execute_result"
    }
   ],
   "source": [
    "df_for_preprocessing.head() "
   ]
  },
  {
   "cell_type": "code",
   "execution_count": 46,
   "metadata": {},
   "outputs": [
    {
     "data": {
      "text/plain": [
       "(14999, 24)"
      ]
     },
     "execution_count": 46,
     "metadata": {},
     "output_type": "execute_result"
    }
   ],
   "source": [
    "df_for_preprocessing.shape"
   ]
  },
  {
   "cell_type": "markdown",
   "metadata": {},
   "source": [
    "We've made 13 new feautures. Let's pre-process this data in another notebook. Don't forget to standardize the numerical features."
   ]
  },
  {
   "cell_type": "code",
   "execution_count": 47,
   "metadata": {},
   "outputs": [],
   "source": [
    "df_for_preprocessing.to_csv('df_for_preprocessing.csv', index=False)"
   ]
  },
  {
   "cell_type": "markdown",
   "metadata": {},
   "source": [
    "## Feature Selection"
   ]
  },
  {
   "cell_type": "code",
   "execution_count": 48,
   "metadata": {},
   "outputs": [
    {
     "data": {
      "text/html": [
       "<div>\n",
       "<style scoped>\n",
       "    .dataframe tbody tr th:only-of-type {\n",
       "        vertical-align: middle;\n",
       "    }\n",
       "\n",
       "    .dataframe tbody tr th {\n",
       "        vertical-align: top;\n",
       "    }\n",
       "\n",
       "    .dataframe thead th {\n",
       "        text-align: right;\n",
       "    }\n",
       "</style>\n",
       "<table border=\"1\" class=\"dataframe\">\n",
       "  <thead>\n",
       "    <tr style=\"text-align: right;\">\n",
       "      <th></th>\n",
       "      <th>id</th>\n",
       "      <th>satisfaction_level</th>\n",
       "      <th>last_evaluation</th>\n",
       "      <th>number_project</th>\n",
       "      <th>average_montly_hours</th>\n",
       "      <th>time_spend_company</th>\n",
       "      <th>Work_accident</th>\n",
       "      <th>churn</th>\n",
       "      <th>promotion_last_5years</th>\n",
       "      <th>dept</th>\n",
       "      <th>salary</th>\n",
       "      <th>sat_level_cluster</th>\n",
       "      <th>last_eval_cluster</th>\n",
       "      <th>avg_month_hr_cluster</th>\n",
       "      <th>satisfaction_level^1xlast_evaluation^1</th>\n",
       "      <th>satisfaction_level^1xnumber_project^1</th>\n",
       "      <th>satisfaction_level^1xaverage_montly_hours^1</th>\n",
       "      <th>satisfaction_level^1xtime_spend_company^1</th>\n",
       "      <th>last_evaluation^1xnumber_project^1</th>\n",
       "      <th>last_evaluation^1xaverage_montly_hours^1</th>\n",
       "      <th>last_evaluation^1xtime_spend_company^1</th>\n",
       "      <th>number_project^1xaverage_montly_hours^1</th>\n",
       "      <th>number_project^1xtime_spend_company^1</th>\n",
       "      <th>average_montly_hours^1xtime_spend_company^1</th>\n",
       "    </tr>\n",
       "  </thead>\n",
       "  <tbody>\n",
       "    <tr>\n",
       "      <th>0</th>\n",
       "      <td>0</td>\n",
       "      <td>0.38</td>\n",
       "      <td>0.53</td>\n",
       "      <td>2</td>\n",
       "      <td>157</td>\n",
       "      <td>3</td>\n",
       "      <td>0</td>\n",
       "      <td>1</td>\n",
       "      <td>0</td>\n",
       "      <td>sales</td>\n",
       "      <td>low</td>\n",
       "      <td>unsatisfied</td>\n",
       "      <td>low performance</td>\n",
       "      <td>low hr</td>\n",
       "      <td>0.2014</td>\n",
       "      <td>0.76</td>\n",
       "      <td>59.66</td>\n",
       "      <td>1.14</td>\n",
       "      <td>1.06</td>\n",
       "      <td>83.21</td>\n",
       "      <td>1.59</td>\n",
       "      <td>314.0</td>\n",
       "      <td>6.0</td>\n",
       "      <td>471.0</td>\n",
       "    </tr>\n",
       "    <tr>\n",
       "      <th>1</th>\n",
       "      <td>1</td>\n",
       "      <td>0.80</td>\n",
       "      <td>0.86</td>\n",
       "      <td>5</td>\n",
       "      <td>262</td>\n",
       "      <td>6</td>\n",
       "      <td>0</td>\n",
       "      <td>1</td>\n",
       "      <td>0</td>\n",
       "      <td>sales</td>\n",
       "      <td>medium</td>\n",
       "      <td>very satisfied</td>\n",
       "      <td>very high performance</td>\n",
       "      <td>high hr</td>\n",
       "      <td>0.6880</td>\n",
       "      <td>4.00</td>\n",
       "      <td>209.60</td>\n",
       "      <td>4.80</td>\n",
       "      <td>4.30</td>\n",
       "      <td>225.32</td>\n",
       "      <td>5.16</td>\n",
       "      <td>1310.0</td>\n",
       "      <td>30.0</td>\n",
       "      <td>1572.0</td>\n",
       "    </tr>\n",
       "    <tr>\n",
       "      <th>2</th>\n",
       "      <td>2</td>\n",
       "      <td>0.11</td>\n",
       "      <td>0.88</td>\n",
       "      <td>7</td>\n",
       "      <td>272</td>\n",
       "      <td>4</td>\n",
       "      <td>0</td>\n",
       "      <td>1</td>\n",
       "      <td>0</td>\n",
       "      <td>sales</td>\n",
       "      <td>medium</td>\n",
       "      <td>very unsatisfied</td>\n",
       "      <td>very high performance</td>\n",
       "      <td>high hr</td>\n",
       "      <td>0.0968</td>\n",
       "      <td>0.77</td>\n",
       "      <td>29.92</td>\n",
       "      <td>0.44</td>\n",
       "      <td>6.16</td>\n",
       "      <td>239.36</td>\n",
       "      <td>3.52</td>\n",
       "      <td>1904.0</td>\n",
       "      <td>28.0</td>\n",
       "      <td>1088.0</td>\n",
       "    </tr>\n",
       "    <tr>\n",
       "      <th>3</th>\n",
       "      <td>3</td>\n",
       "      <td>0.72</td>\n",
       "      <td>0.87</td>\n",
       "      <td>5</td>\n",
       "      <td>223</td>\n",
       "      <td>5</td>\n",
       "      <td>0</td>\n",
       "      <td>1</td>\n",
       "      <td>0</td>\n",
       "      <td>sales</td>\n",
       "      <td>low</td>\n",
       "      <td>satisfied</td>\n",
       "      <td>very high performance</td>\n",
       "      <td>med hr</td>\n",
       "      <td>0.6264</td>\n",
       "      <td>3.60</td>\n",
       "      <td>160.56</td>\n",
       "      <td>3.60</td>\n",
       "      <td>4.35</td>\n",
       "      <td>194.01</td>\n",
       "      <td>4.35</td>\n",
       "      <td>1115.0</td>\n",
       "      <td>25.0</td>\n",
       "      <td>1115.0</td>\n",
       "    </tr>\n",
       "    <tr>\n",
       "      <th>4</th>\n",
       "      <td>4</td>\n",
       "      <td>0.37</td>\n",
       "      <td>0.52</td>\n",
       "      <td>2</td>\n",
       "      <td>159</td>\n",
       "      <td>3</td>\n",
       "      <td>0</td>\n",
       "      <td>1</td>\n",
       "      <td>0</td>\n",
       "      <td>sales</td>\n",
       "      <td>low</td>\n",
       "      <td>unsatisfied</td>\n",
       "      <td>low performance</td>\n",
       "      <td>low hr</td>\n",
       "      <td>0.1924</td>\n",
       "      <td>0.74</td>\n",
       "      <td>58.83</td>\n",
       "      <td>1.11</td>\n",
       "      <td>1.04</td>\n",
       "      <td>82.68</td>\n",
       "      <td>1.56</td>\n",
       "      <td>318.0</td>\n",
       "      <td>6.0</td>\n",
       "      <td>477.0</td>\n",
       "    </tr>\n",
       "  </tbody>\n",
       "</table>\n",
       "</div>"
      ],
      "text/plain": [
       "   id  satisfaction_level  last_evaluation  number_project  \\\n",
       "0   0                0.38             0.53               2   \n",
       "1   1                0.80             0.86               5   \n",
       "2   2                0.11             0.88               7   \n",
       "3   3                0.72             0.87               5   \n",
       "4   4                0.37             0.52               2   \n",
       "\n",
       "   average_montly_hours  time_spend_company  Work_accident  churn  \\\n",
       "0                   157                   3              0      1   \n",
       "1                   262                   6              0      1   \n",
       "2                   272                   4              0      1   \n",
       "3                   223                   5              0      1   \n",
       "4                   159                   3              0      1   \n",
       "\n",
       "   promotion_last_5years   dept  salary sat_level_cluster  \\\n",
       "0                      0  sales     low       unsatisfied   \n",
       "1                      0  sales  medium    very satisfied   \n",
       "2                      0  sales  medium  very unsatisfied   \n",
       "3                      0  sales     low         satisfied   \n",
       "4                      0  sales     low       unsatisfied   \n",
       "\n",
       "       last_eval_cluster avg_month_hr_cluster  \\\n",
       "0        low performance               low hr   \n",
       "1  very high performance              high hr   \n",
       "2  very high performance              high hr   \n",
       "3  very high performance               med hr   \n",
       "4        low performance               low hr   \n",
       "\n",
       "   satisfaction_level^1xlast_evaluation^1  \\\n",
       "0                                  0.2014   \n",
       "1                                  0.6880   \n",
       "2                                  0.0968   \n",
       "3                                  0.6264   \n",
       "4                                  0.1924   \n",
       "\n",
       "   satisfaction_level^1xnumber_project^1  \\\n",
       "0                                   0.76   \n",
       "1                                   4.00   \n",
       "2                                   0.77   \n",
       "3                                   3.60   \n",
       "4                                   0.74   \n",
       "\n",
       "   satisfaction_level^1xaverage_montly_hours^1  \\\n",
       "0                                        59.66   \n",
       "1                                       209.60   \n",
       "2                                        29.92   \n",
       "3                                       160.56   \n",
       "4                                        58.83   \n",
       "\n",
       "   satisfaction_level^1xtime_spend_company^1  \\\n",
       "0                                       1.14   \n",
       "1                                       4.80   \n",
       "2                                       0.44   \n",
       "3                                       3.60   \n",
       "4                                       1.11   \n",
       "\n",
       "   last_evaluation^1xnumber_project^1  \\\n",
       "0                                1.06   \n",
       "1                                4.30   \n",
       "2                                6.16   \n",
       "3                                4.35   \n",
       "4                                1.04   \n",
       "\n",
       "   last_evaluation^1xaverage_montly_hours^1  \\\n",
       "0                                     83.21   \n",
       "1                                    225.32   \n",
       "2                                    239.36   \n",
       "3                                    194.01   \n",
       "4                                     82.68   \n",
       "\n",
       "   last_evaluation^1xtime_spend_company^1  \\\n",
       "0                                    1.59   \n",
       "1                                    5.16   \n",
       "2                                    3.52   \n",
       "3                                    4.35   \n",
       "4                                    1.56   \n",
       "\n",
       "   number_project^1xaverage_montly_hours^1  \\\n",
       "0                                    314.0   \n",
       "1                                   1310.0   \n",
       "2                                   1904.0   \n",
       "3                                   1115.0   \n",
       "4                                    318.0   \n",
       "\n",
       "   number_project^1xtime_spend_company^1  \\\n",
       "0                                    6.0   \n",
       "1                                   30.0   \n",
       "2                                   28.0   \n",
       "3                                   25.0   \n",
       "4                                    6.0   \n",
       "\n",
       "   average_montly_hours^1xtime_spend_company^1  \n",
       "0                                        471.0  \n",
       "1                                       1572.0  \n",
       "2                                       1088.0  \n",
       "3                                       1115.0  \n",
       "4                                        477.0  "
      ]
     },
     "execution_count": 48,
     "metadata": {},
     "output_type": "execute_result"
    }
   ],
   "source": [
    "df_for_preprocessing.head()"
   ]
  },
  {
   "cell_type": "markdown",
   "metadata": {},
   "source": [
    "## Variance Threshold"
   ]
  },
  {
   "cell_type": "code",
   "execution_count": 49,
   "metadata": {},
   "outputs": [],
   "source": [
    "from sklearn.feature_selection import VarianceThreshold\n",
    "from sklearn.preprocessing import MinMaxScaler"
   ]
  },
  {
   "cell_type": "code",
   "execution_count": 50,
   "metadata": {},
   "outputs": [],
   "source": [
    "df_num = df_for_preprocessing.drop(columns=['id',                       \n",
    "                                            'Work_accident',\n",
    "                                            'churn',\n",
    "                                            'promotion_last_5years',\n",
    "                                            'dept',\n",
    "                                            'salary',\n",
    "                                            'sat_level_cluster',\n",
    "                                            'last_eval_cluster',\n",
    "                                            'avg_month_hr_cluster'])"
   ]
  },
  {
   "cell_type": "code",
   "execution_count": 51,
   "metadata": {},
   "outputs": [],
   "source": [
    "minmax_scaler = MinMaxScaler()\n",
    "minmax = minmax_scaler.fit_transform(df_num)"
   ]
  },
  {
   "cell_type": "code",
   "execution_count": 52,
   "metadata": {},
   "outputs": [
    {
     "data": {
      "text/plain": [
       "array([0.07464446, 0.07152566, 0.0607673 , 0.05446211, 0.03331024,\n",
       "       0.05575229, 0.04167423, 0.0517659 , 0.01835536, 0.04383645,\n",
       "       0.04697235, 0.0202557 , 0.03774655, 0.02037429, 0.0197965 ])"
      ]
     },
     "execution_count": 52,
     "metadata": {},
     "output_type": "execute_result"
    }
   ],
   "source": [
    "minmax.var(axis=0)"
   ]
  },
  {
   "cell_type": "code",
   "execution_count": 53,
   "metadata": {},
   "outputs": [
    {
     "data": {
      "text/plain": [
       "array([[0.31868132, 0.265625  , 0.        , 0.28504673, 0.16219052,\n",
       "        0.1725598 ],\n",
       "       [0.78021978, 0.78125   , 0.6       , 0.77570093, 0.67268149,\n",
       "        0.7294607 ],\n",
       "       [0.02197802, 0.8125    , 1.        , 0.82242991, 0.05245489,\n",
       "        0.06210073],\n",
       "       ...,\n",
       "       [0.30769231, 0.265625  , 0.        , 0.21962617, 0.1566303 ,\n",
       "        0.14748923],\n",
       "       [0.02197802, 0.9375    , 0.8       , 0.85981308, 0.06168695,\n",
       "        0.06536919],\n",
       "       [0.30769231, 0.25      , 0.        , 0.28971963, 0.15274864,\n",
       "        0.16810281]])"
      ]
     },
     "execution_count": 53,
     "metadata": {},
     "output_type": "execute_result"
    }
   ],
   "source": [
    "selector = VarianceThreshold(threshold = 0.05)\n",
    "selector.fit_transform(minmax)"
   ]
  },
  {
   "cell_type": "code",
   "execution_count": 54,
   "metadata": {},
   "outputs": [
    {
     "data": {
      "text/plain": [
       "array([0.075, 0.072, 0.061, 0.054, 0.033, 0.056, 0.042, 0.052, 0.018,\n",
       "       0.044, 0.047, 0.02 , 0.038, 0.02 , 0.02 ])"
      ]
     },
     "execution_count": 54,
     "metadata": {},
     "output_type": "execute_result"
    }
   ],
   "source": [
    "selector.variances_.round(3)"
   ]
  },
  {
   "cell_type": "code",
   "execution_count": 55,
   "metadata": {},
   "outputs": [
    {
     "data": {
      "text/plain": [
       "array([ True,  True,  True,  True, False,  True, False,  True, False,\n",
       "       False, False, False, False, False, False])"
      ]
     },
     "execution_count": 55,
     "metadata": {},
     "output_type": "execute_result"
    }
   ],
   "source": [
    "#Which columns are these?\n",
    "selector.get_support()"
   ]
  },
  {
   "cell_type": "code",
   "execution_count": 56,
   "metadata": {},
   "outputs": [
    {
     "data": {
      "text/plain": [
       "array([0, 1, 2, 3, 5, 7])"
      ]
     },
     "execution_count": 56,
     "metadata": {},
     "output_type": "execute_result"
    }
   ],
   "source": [
    "selector.get_support(indices = True)"
   ]
  },
  {
   "cell_type": "code",
   "execution_count": 58,
   "metadata": {},
   "outputs": [
    {
     "data": {
      "text/plain": [
       "Index(['satisfaction_level', 'last_evaluation', 'number_project',\n",
       "       'average_montly_hours', 'satisfaction_level^1xlast_evaluation^1',\n",
       "       'satisfaction_level^1xaverage_montly_hours^1'],\n",
       "      dtype='object')"
      ]
     },
     "execution_count": 58,
     "metadata": {},
     "output_type": "execute_result"
    }
   ],
   "source": [
    "#The columns chosen by variance threshold\n",
    "df_num.columns[selector.get_support(indices = True)]"
   ]
  },
  {
   "cell_type": "markdown",
   "metadata": {},
   "source": [
    "## Chi-Sqaured"
   ]
  },
  {
   "cell_type": "code",
   "execution_count": 59,
   "metadata": {},
   "outputs": [],
   "source": [
    "from sklearn.feature_selection import chi2, SelectKBest\n",
    "from sklearn.model_selection import train_test_split\n",
    "from sklearn.preprocessing import OneHotEncoder, OrdinalEncoder\n",
    "from sklearn.compose import ColumnTransformer\n"
   ]
  },
  {
   "cell_type": "code",
   "execution_count": 60,
   "metadata": {},
   "outputs": [
    {
     "data": {
      "text/html": [
       "<div>\n",
       "<style scoped>\n",
       "    .dataframe tbody tr th:only-of-type {\n",
       "        vertical-align: middle;\n",
       "    }\n",
       "\n",
       "    .dataframe tbody tr th {\n",
       "        vertical-align: top;\n",
       "    }\n",
       "\n",
       "    .dataframe thead th {\n",
       "        text-align: right;\n",
       "    }\n",
       "</style>\n",
       "<table border=\"1\" class=\"dataframe\">\n",
       "  <thead>\n",
       "    <tr style=\"text-align: right;\">\n",
       "      <th></th>\n",
       "      <th>id</th>\n",
       "      <th>satisfaction_level</th>\n",
       "      <th>last_evaluation</th>\n",
       "      <th>number_project</th>\n",
       "      <th>average_montly_hours</th>\n",
       "      <th>time_spend_company</th>\n",
       "      <th>Work_accident</th>\n",
       "      <th>churn</th>\n",
       "      <th>promotion_last_5years</th>\n",
       "      <th>dept</th>\n",
       "      <th>salary</th>\n",
       "      <th>sat_level_cluster</th>\n",
       "      <th>last_eval_cluster</th>\n",
       "      <th>avg_month_hr_cluster</th>\n",
       "      <th>satisfaction_level^1xlast_evaluation^1</th>\n",
       "      <th>satisfaction_level^1xnumber_project^1</th>\n",
       "      <th>satisfaction_level^1xaverage_montly_hours^1</th>\n",
       "      <th>satisfaction_level^1xtime_spend_company^1</th>\n",
       "      <th>last_evaluation^1xnumber_project^1</th>\n",
       "      <th>last_evaluation^1xaverage_montly_hours^1</th>\n",
       "      <th>last_evaluation^1xtime_spend_company^1</th>\n",
       "      <th>number_project^1xaverage_montly_hours^1</th>\n",
       "      <th>number_project^1xtime_spend_company^1</th>\n",
       "      <th>average_montly_hours^1xtime_spend_company^1</th>\n",
       "    </tr>\n",
       "  </thead>\n",
       "  <tbody>\n",
       "    <tr>\n",
       "      <th>0</th>\n",
       "      <td>0</td>\n",
       "      <td>0.38</td>\n",
       "      <td>0.53</td>\n",
       "      <td>2</td>\n",
       "      <td>157</td>\n",
       "      <td>3</td>\n",
       "      <td>0</td>\n",
       "      <td>1</td>\n",
       "      <td>0</td>\n",
       "      <td>sales</td>\n",
       "      <td>low</td>\n",
       "      <td>unsatisfied</td>\n",
       "      <td>low performance</td>\n",
       "      <td>low hr</td>\n",
       "      <td>0.2014</td>\n",
       "      <td>0.76</td>\n",
       "      <td>59.66</td>\n",
       "      <td>1.14</td>\n",
       "      <td>1.06</td>\n",
       "      <td>83.21</td>\n",
       "      <td>1.59</td>\n",
       "      <td>314.0</td>\n",
       "      <td>6.0</td>\n",
       "      <td>471.0</td>\n",
       "    </tr>\n",
       "    <tr>\n",
       "      <th>1</th>\n",
       "      <td>1</td>\n",
       "      <td>0.80</td>\n",
       "      <td>0.86</td>\n",
       "      <td>5</td>\n",
       "      <td>262</td>\n",
       "      <td>6</td>\n",
       "      <td>0</td>\n",
       "      <td>1</td>\n",
       "      <td>0</td>\n",
       "      <td>sales</td>\n",
       "      <td>medium</td>\n",
       "      <td>very satisfied</td>\n",
       "      <td>very high performance</td>\n",
       "      <td>high hr</td>\n",
       "      <td>0.6880</td>\n",
       "      <td>4.00</td>\n",
       "      <td>209.60</td>\n",
       "      <td>4.80</td>\n",
       "      <td>4.30</td>\n",
       "      <td>225.32</td>\n",
       "      <td>5.16</td>\n",
       "      <td>1310.0</td>\n",
       "      <td>30.0</td>\n",
       "      <td>1572.0</td>\n",
       "    </tr>\n",
       "    <tr>\n",
       "      <th>2</th>\n",
       "      <td>2</td>\n",
       "      <td>0.11</td>\n",
       "      <td>0.88</td>\n",
       "      <td>7</td>\n",
       "      <td>272</td>\n",
       "      <td>4</td>\n",
       "      <td>0</td>\n",
       "      <td>1</td>\n",
       "      <td>0</td>\n",
       "      <td>sales</td>\n",
       "      <td>medium</td>\n",
       "      <td>very unsatisfied</td>\n",
       "      <td>very high performance</td>\n",
       "      <td>high hr</td>\n",
       "      <td>0.0968</td>\n",
       "      <td>0.77</td>\n",
       "      <td>29.92</td>\n",
       "      <td>0.44</td>\n",
       "      <td>6.16</td>\n",
       "      <td>239.36</td>\n",
       "      <td>3.52</td>\n",
       "      <td>1904.0</td>\n",
       "      <td>28.0</td>\n",
       "      <td>1088.0</td>\n",
       "    </tr>\n",
       "    <tr>\n",
       "      <th>3</th>\n",
       "      <td>3</td>\n",
       "      <td>0.72</td>\n",
       "      <td>0.87</td>\n",
       "      <td>5</td>\n",
       "      <td>223</td>\n",
       "      <td>5</td>\n",
       "      <td>0</td>\n",
       "      <td>1</td>\n",
       "      <td>0</td>\n",
       "      <td>sales</td>\n",
       "      <td>low</td>\n",
       "      <td>satisfied</td>\n",
       "      <td>very high performance</td>\n",
       "      <td>med hr</td>\n",
       "      <td>0.6264</td>\n",
       "      <td>3.60</td>\n",
       "      <td>160.56</td>\n",
       "      <td>3.60</td>\n",
       "      <td>4.35</td>\n",
       "      <td>194.01</td>\n",
       "      <td>4.35</td>\n",
       "      <td>1115.0</td>\n",
       "      <td>25.0</td>\n",
       "      <td>1115.0</td>\n",
       "    </tr>\n",
       "    <tr>\n",
       "      <th>4</th>\n",
       "      <td>4</td>\n",
       "      <td>0.37</td>\n",
       "      <td>0.52</td>\n",
       "      <td>2</td>\n",
       "      <td>159</td>\n",
       "      <td>3</td>\n",
       "      <td>0</td>\n",
       "      <td>1</td>\n",
       "      <td>0</td>\n",
       "      <td>sales</td>\n",
       "      <td>low</td>\n",
       "      <td>unsatisfied</td>\n",
       "      <td>low performance</td>\n",
       "      <td>low hr</td>\n",
       "      <td>0.1924</td>\n",
       "      <td>0.74</td>\n",
       "      <td>58.83</td>\n",
       "      <td>1.11</td>\n",
       "      <td>1.04</td>\n",
       "      <td>82.68</td>\n",
       "      <td>1.56</td>\n",
       "      <td>318.0</td>\n",
       "      <td>6.0</td>\n",
       "      <td>477.0</td>\n",
       "    </tr>\n",
       "  </tbody>\n",
       "</table>\n",
       "</div>"
      ],
      "text/plain": [
       "   id  satisfaction_level  last_evaluation  number_project  \\\n",
       "0   0                0.38             0.53               2   \n",
       "1   1                0.80             0.86               5   \n",
       "2   2                0.11             0.88               7   \n",
       "3   3                0.72             0.87               5   \n",
       "4   4                0.37             0.52               2   \n",
       "\n",
       "   average_montly_hours  time_spend_company  Work_accident  churn  \\\n",
       "0                   157                   3              0      1   \n",
       "1                   262                   6              0      1   \n",
       "2                   272                   4              0      1   \n",
       "3                   223                   5              0      1   \n",
       "4                   159                   3              0      1   \n",
       "\n",
       "   promotion_last_5years   dept  salary sat_level_cluster  \\\n",
       "0                      0  sales     low       unsatisfied   \n",
       "1                      0  sales  medium    very satisfied   \n",
       "2                      0  sales  medium  very unsatisfied   \n",
       "3                      0  sales     low         satisfied   \n",
       "4                      0  sales     low       unsatisfied   \n",
       "\n",
       "       last_eval_cluster avg_month_hr_cluster  \\\n",
       "0        low performance               low hr   \n",
       "1  very high performance              high hr   \n",
       "2  very high performance              high hr   \n",
       "3  very high performance               med hr   \n",
       "4        low performance               low hr   \n",
       "\n",
       "   satisfaction_level^1xlast_evaluation^1  \\\n",
       "0                                  0.2014   \n",
       "1                                  0.6880   \n",
       "2                                  0.0968   \n",
       "3                                  0.6264   \n",
       "4                                  0.1924   \n",
       "\n",
       "   satisfaction_level^1xnumber_project^1  \\\n",
       "0                                   0.76   \n",
       "1                                   4.00   \n",
       "2                                   0.77   \n",
       "3                                   3.60   \n",
       "4                                   0.74   \n",
       "\n",
       "   satisfaction_level^1xaverage_montly_hours^1  \\\n",
       "0                                        59.66   \n",
       "1                                       209.60   \n",
       "2                                        29.92   \n",
       "3                                       160.56   \n",
       "4                                        58.83   \n",
       "\n",
       "   satisfaction_level^1xtime_spend_company^1  \\\n",
       "0                                       1.14   \n",
       "1                                       4.80   \n",
       "2                                       0.44   \n",
       "3                                       3.60   \n",
       "4                                       1.11   \n",
       "\n",
       "   last_evaluation^1xnumber_project^1  \\\n",
       "0                                1.06   \n",
       "1                                4.30   \n",
       "2                                6.16   \n",
       "3                                4.35   \n",
       "4                                1.04   \n",
       "\n",
       "   last_evaluation^1xaverage_montly_hours^1  \\\n",
       "0                                     83.21   \n",
       "1                                    225.32   \n",
       "2                                    239.36   \n",
       "3                                    194.01   \n",
       "4                                     82.68   \n",
       "\n",
       "   last_evaluation^1xtime_spend_company^1  \\\n",
       "0                                    1.59   \n",
       "1                                    5.16   \n",
       "2                                    3.52   \n",
       "3                                    4.35   \n",
       "4                                    1.56   \n",
       "\n",
       "   number_project^1xaverage_montly_hours^1  \\\n",
       "0                                    314.0   \n",
       "1                                   1310.0   \n",
       "2                                   1904.0   \n",
       "3                                   1115.0   \n",
       "4                                    318.0   \n",
       "\n",
       "   number_project^1xtime_spend_company^1  \\\n",
       "0                                    6.0   \n",
       "1                                   30.0   \n",
       "2                                   28.0   \n",
       "3                                   25.0   \n",
       "4                                    6.0   \n",
       "\n",
       "   average_montly_hours^1xtime_spend_company^1  \n",
       "0                                        471.0  \n",
       "1                                       1572.0  \n",
       "2                                       1088.0  \n",
       "3                                       1115.0  \n",
       "4                                        477.0  "
      ]
     },
     "execution_count": 60,
     "metadata": {},
     "output_type": "execute_result"
    }
   ],
   "source": [
    "df_for_preprocessing.head()"
   ]
  },
  {
   "cell_type": "code",
   "execution_count": 148,
   "metadata": {},
   "outputs": [],
   "source": [
    "df_cat = df_for_preprocessing[[\n",
    "                              'dept',\n",
    "                              'salary',\n",
    "                              'sat_level_cluster',\n",
    "                              'last_eval_cluster',\n",
    "                              'avg_month_hr_cluster',\n",
    "                              'Work_accident',\n",
    "                              #'churn',\n",
    "                              'promotion_last_5years']]\n",
    "nom_var = ['dept']\n",
    "\n",
    "ord_var = ['salary',\n",
    "           'sat_level_cluster',\n",
    "           'last_eval_cluster',\n",
    "           'avg_month_hr_cluster']\n",
    "\n",
    "bin_var = ['Work_accident',\n",
    "           'promotion_last_5years']"
   ]
  },
  {
   "cell_type": "code",
   "execution_count": 165,
   "metadata": {},
   "outputs": [],
   "source": [
    "# We need to fit the OrdinalEncoder before splitting the dataset into training and testing because if a new value that never appears in the fit step needs to be converted in the transform step, OrdinalEncoder will raise an error\n",
    "\n",
    "ord_categories = [['low','medium','high'],\n",
    "                  ['very unsatisfied', 'unsatisfied', 'satisfied', 'very satisfied'],\n",
    "                  ['low performance', 'average performance', 'high performance', 'very high performance'],\n",
    "                  ['low hr', 'med hr', 'high hr']]\n",
    "\n",
    "ord_encoder = OrdinalEncoder(categories=ord_categories)"
   ]
  },
  {
   "cell_type": "code",
   "execution_count": 166,
   "metadata": {},
   "outputs": [],
   "source": [
    "df_ord = pd.DataFrame(ord_encoder.fit_transform(df_for_preprocessing[ord_var]))"
   ]
  },
  {
   "cell_type": "code",
   "execution_count": 167,
   "metadata": {},
   "outputs": [
    {
     "data": {
      "text/html": [
       "<div>\n",
       "<style scoped>\n",
       "    .dataframe tbody tr th:only-of-type {\n",
       "        vertical-align: middle;\n",
       "    }\n",
       "\n",
       "    .dataframe tbody tr th {\n",
       "        vertical-align: top;\n",
       "    }\n",
       "\n",
       "    .dataframe thead th {\n",
       "        text-align: right;\n",
       "    }\n",
       "</style>\n",
       "<table border=\"1\" class=\"dataframe\">\n",
       "  <thead>\n",
       "    <tr style=\"text-align: right;\">\n",
       "      <th></th>\n",
       "      <th>0</th>\n",
       "      <th>1</th>\n",
       "      <th>2</th>\n",
       "      <th>3</th>\n",
       "    </tr>\n",
       "  </thead>\n",
       "  <tbody>\n",
       "    <tr>\n",
       "      <th>0</th>\n",
       "      <td>0.0</td>\n",
       "      <td>1.0</td>\n",
       "      <td>0.0</td>\n",
       "      <td>0.0</td>\n",
       "    </tr>\n",
       "    <tr>\n",
       "      <th>1</th>\n",
       "      <td>1.0</td>\n",
       "      <td>3.0</td>\n",
       "      <td>3.0</td>\n",
       "      <td>2.0</td>\n",
       "    </tr>\n",
       "    <tr>\n",
       "      <th>2</th>\n",
       "      <td>1.0</td>\n",
       "      <td>0.0</td>\n",
       "      <td>3.0</td>\n",
       "      <td>2.0</td>\n",
       "    </tr>\n",
       "    <tr>\n",
       "      <th>3</th>\n",
       "      <td>0.0</td>\n",
       "      <td>2.0</td>\n",
       "      <td>3.0</td>\n",
       "      <td>1.0</td>\n",
       "    </tr>\n",
       "    <tr>\n",
       "      <th>4</th>\n",
       "      <td>0.0</td>\n",
       "      <td>1.0</td>\n",
       "      <td>0.0</td>\n",
       "      <td>0.0</td>\n",
       "    </tr>\n",
       "  </tbody>\n",
       "</table>\n",
       "</div>"
      ],
      "text/plain": [
       "     0    1    2    3\n",
       "0  0.0  1.0  0.0  0.0\n",
       "1  1.0  3.0  3.0  2.0\n",
       "2  1.0  0.0  3.0  2.0\n",
       "3  0.0  2.0  3.0  1.0\n",
       "4  0.0  1.0  0.0  0.0"
      ]
     },
     "execution_count": 167,
     "metadata": {},
     "output_type": "execute_result"
    }
   ],
   "source": [
    "df_ord.head()"
   ]
  },
  {
   "cell_type": "code",
   "execution_count": 168,
   "metadata": {},
   "outputs": [
    {
     "data": {
      "text/html": [
       "<div>\n",
       "<style scoped>\n",
       "    .dataframe tbody tr th:only-of-type {\n",
       "        vertical-align: middle;\n",
       "    }\n",
       "\n",
       "    .dataframe tbody tr th {\n",
       "        vertical-align: top;\n",
       "    }\n",
       "\n",
       "    .dataframe thead th {\n",
       "        text-align: right;\n",
       "    }\n",
       "</style>\n",
       "<table border=\"1\" class=\"dataframe\">\n",
       "  <thead>\n",
       "    <tr style=\"text-align: right;\">\n",
       "      <th></th>\n",
       "      <th>salary</th>\n",
       "      <th>sat_level_cluster</th>\n",
       "      <th>last_eval_cluster</th>\n",
       "      <th>avg_month_hr_cluster</th>\n",
       "    </tr>\n",
       "  </thead>\n",
       "  <tbody>\n",
       "    <tr>\n",
       "      <th>0</th>\n",
       "      <td>low</td>\n",
       "      <td>unsatisfied</td>\n",
       "      <td>low performance</td>\n",
       "      <td>low hr</td>\n",
       "    </tr>\n",
       "    <tr>\n",
       "      <th>1</th>\n",
       "      <td>medium</td>\n",
       "      <td>very satisfied</td>\n",
       "      <td>very high performance</td>\n",
       "      <td>high hr</td>\n",
       "    </tr>\n",
       "    <tr>\n",
       "      <th>2</th>\n",
       "      <td>medium</td>\n",
       "      <td>very unsatisfied</td>\n",
       "      <td>very high performance</td>\n",
       "      <td>high hr</td>\n",
       "    </tr>\n",
       "    <tr>\n",
       "      <th>3</th>\n",
       "      <td>low</td>\n",
       "      <td>satisfied</td>\n",
       "      <td>very high performance</td>\n",
       "      <td>med hr</td>\n",
       "    </tr>\n",
       "    <tr>\n",
       "      <th>4</th>\n",
       "      <td>low</td>\n",
       "      <td>unsatisfied</td>\n",
       "      <td>low performance</td>\n",
       "      <td>low hr</td>\n",
       "    </tr>\n",
       "  </tbody>\n",
       "</table>\n",
       "</div>"
      ],
      "text/plain": [
       "   salary sat_level_cluster      last_eval_cluster avg_month_hr_cluster\n",
       "0     low       unsatisfied        low performance               low hr\n",
       "1  medium    very satisfied  very high performance              high hr\n",
       "2  medium  very unsatisfied  very high performance              high hr\n",
       "3     low         satisfied  very high performance               med hr\n",
       "4     low       unsatisfied        low performance               low hr"
      ]
     },
     "execution_count": 168,
     "metadata": {},
     "output_type": "execute_result"
    }
   ],
   "source": [
    "#Let's compare to see if ordinalencoder encoded properly; everything matches!\n",
    "df_for_preprocessing[ord_var].head()"
   ]
  },
  {
   "cell_type": "code",
   "execution_count": 170,
   "metadata": {},
   "outputs": [],
   "source": [
    "df_for_preprocessing[ord_var] = df_ord"
   ]
  },
  {
   "cell_type": "code",
   "execution_count": 171,
   "metadata": {},
   "outputs": [
    {
     "data": {
      "text/html": [
       "<div>\n",
       "<style scoped>\n",
       "    .dataframe tbody tr th:only-of-type {\n",
       "        vertical-align: middle;\n",
       "    }\n",
       "\n",
       "    .dataframe tbody tr th {\n",
       "        vertical-align: top;\n",
       "    }\n",
       "\n",
       "    .dataframe thead th {\n",
       "        text-align: right;\n",
       "    }\n",
       "</style>\n",
       "<table border=\"1\" class=\"dataframe\">\n",
       "  <thead>\n",
       "    <tr style=\"text-align: right;\">\n",
       "      <th></th>\n",
       "      <th>id</th>\n",
       "      <th>satisfaction_level</th>\n",
       "      <th>last_evaluation</th>\n",
       "      <th>number_project</th>\n",
       "      <th>average_montly_hours</th>\n",
       "      <th>time_spend_company</th>\n",
       "      <th>Work_accident</th>\n",
       "      <th>churn</th>\n",
       "      <th>promotion_last_5years</th>\n",
       "      <th>dept</th>\n",
       "      <th>salary</th>\n",
       "      <th>sat_level_cluster</th>\n",
       "      <th>last_eval_cluster</th>\n",
       "      <th>avg_month_hr_cluster</th>\n",
       "      <th>satisfaction_level^1xlast_evaluation^1</th>\n",
       "      <th>satisfaction_level^1xnumber_project^1</th>\n",
       "      <th>satisfaction_level^1xaverage_montly_hours^1</th>\n",
       "      <th>satisfaction_level^1xtime_spend_company^1</th>\n",
       "      <th>last_evaluation^1xnumber_project^1</th>\n",
       "      <th>last_evaluation^1xaverage_montly_hours^1</th>\n",
       "      <th>last_evaluation^1xtime_spend_company^1</th>\n",
       "      <th>number_project^1xaverage_montly_hours^1</th>\n",
       "      <th>number_project^1xtime_spend_company^1</th>\n",
       "      <th>average_montly_hours^1xtime_spend_company^1</th>\n",
       "    </tr>\n",
       "  </thead>\n",
       "  <tbody>\n",
       "    <tr>\n",
       "      <th>0</th>\n",
       "      <td>0</td>\n",
       "      <td>0.38</td>\n",
       "      <td>0.53</td>\n",
       "      <td>2</td>\n",
       "      <td>157</td>\n",
       "      <td>3</td>\n",
       "      <td>0</td>\n",
       "      <td>1</td>\n",
       "      <td>0</td>\n",
       "      <td>sales</td>\n",
       "      <td>0.0</td>\n",
       "      <td>1.0</td>\n",
       "      <td>0.0</td>\n",
       "      <td>0.0</td>\n",
       "      <td>0.2014</td>\n",
       "      <td>0.76</td>\n",
       "      <td>59.66</td>\n",
       "      <td>1.14</td>\n",
       "      <td>1.06</td>\n",
       "      <td>83.21</td>\n",
       "      <td>1.59</td>\n",
       "      <td>314.0</td>\n",
       "      <td>6.0</td>\n",
       "      <td>471.0</td>\n",
       "    </tr>\n",
       "    <tr>\n",
       "      <th>1</th>\n",
       "      <td>1</td>\n",
       "      <td>0.80</td>\n",
       "      <td>0.86</td>\n",
       "      <td>5</td>\n",
       "      <td>262</td>\n",
       "      <td>6</td>\n",
       "      <td>0</td>\n",
       "      <td>1</td>\n",
       "      <td>0</td>\n",
       "      <td>sales</td>\n",
       "      <td>1.0</td>\n",
       "      <td>3.0</td>\n",
       "      <td>3.0</td>\n",
       "      <td>2.0</td>\n",
       "      <td>0.6880</td>\n",
       "      <td>4.00</td>\n",
       "      <td>209.60</td>\n",
       "      <td>4.80</td>\n",
       "      <td>4.30</td>\n",
       "      <td>225.32</td>\n",
       "      <td>5.16</td>\n",
       "      <td>1310.0</td>\n",
       "      <td>30.0</td>\n",
       "      <td>1572.0</td>\n",
       "    </tr>\n",
       "    <tr>\n",
       "      <th>2</th>\n",
       "      <td>2</td>\n",
       "      <td>0.11</td>\n",
       "      <td>0.88</td>\n",
       "      <td>7</td>\n",
       "      <td>272</td>\n",
       "      <td>4</td>\n",
       "      <td>0</td>\n",
       "      <td>1</td>\n",
       "      <td>0</td>\n",
       "      <td>sales</td>\n",
       "      <td>1.0</td>\n",
       "      <td>0.0</td>\n",
       "      <td>3.0</td>\n",
       "      <td>2.0</td>\n",
       "      <td>0.0968</td>\n",
       "      <td>0.77</td>\n",
       "      <td>29.92</td>\n",
       "      <td>0.44</td>\n",
       "      <td>6.16</td>\n",
       "      <td>239.36</td>\n",
       "      <td>3.52</td>\n",
       "      <td>1904.0</td>\n",
       "      <td>28.0</td>\n",
       "      <td>1088.0</td>\n",
       "    </tr>\n",
       "    <tr>\n",
       "      <th>3</th>\n",
       "      <td>3</td>\n",
       "      <td>0.72</td>\n",
       "      <td>0.87</td>\n",
       "      <td>5</td>\n",
       "      <td>223</td>\n",
       "      <td>5</td>\n",
       "      <td>0</td>\n",
       "      <td>1</td>\n",
       "      <td>0</td>\n",
       "      <td>sales</td>\n",
       "      <td>0.0</td>\n",
       "      <td>2.0</td>\n",
       "      <td>3.0</td>\n",
       "      <td>1.0</td>\n",
       "      <td>0.6264</td>\n",
       "      <td>3.60</td>\n",
       "      <td>160.56</td>\n",
       "      <td>3.60</td>\n",
       "      <td>4.35</td>\n",
       "      <td>194.01</td>\n",
       "      <td>4.35</td>\n",
       "      <td>1115.0</td>\n",
       "      <td>25.0</td>\n",
       "      <td>1115.0</td>\n",
       "    </tr>\n",
       "    <tr>\n",
       "      <th>4</th>\n",
       "      <td>4</td>\n",
       "      <td>0.37</td>\n",
       "      <td>0.52</td>\n",
       "      <td>2</td>\n",
       "      <td>159</td>\n",
       "      <td>3</td>\n",
       "      <td>0</td>\n",
       "      <td>1</td>\n",
       "      <td>0</td>\n",
       "      <td>sales</td>\n",
       "      <td>0.0</td>\n",
       "      <td>1.0</td>\n",
       "      <td>0.0</td>\n",
       "      <td>0.0</td>\n",
       "      <td>0.1924</td>\n",
       "      <td>0.74</td>\n",
       "      <td>58.83</td>\n",
       "      <td>1.11</td>\n",
       "      <td>1.04</td>\n",
       "      <td>82.68</td>\n",
       "      <td>1.56</td>\n",
       "      <td>318.0</td>\n",
       "      <td>6.0</td>\n",
       "      <td>477.0</td>\n",
       "    </tr>\n",
       "  </tbody>\n",
       "</table>\n",
       "</div>"
      ],
      "text/plain": [
       "   id  satisfaction_level  last_evaluation  number_project  \\\n",
       "0   0                0.38             0.53               2   \n",
       "1   1                0.80             0.86               5   \n",
       "2   2                0.11             0.88               7   \n",
       "3   3                0.72             0.87               5   \n",
       "4   4                0.37             0.52               2   \n",
       "\n",
       "   average_montly_hours  time_spend_company  Work_accident  churn  \\\n",
       "0                   157                   3              0      1   \n",
       "1                   262                   6              0      1   \n",
       "2                   272                   4              0      1   \n",
       "3                   223                   5              0      1   \n",
       "4                   159                   3              0      1   \n",
       "\n",
       "   promotion_last_5years   dept  salary  sat_level_cluster  last_eval_cluster  \\\n",
       "0                      0  sales     0.0                1.0                0.0   \n",
       "1                      0  sales     1.0                3.0                3.0   \n",
       "2                      0  sales     1.0                0.0                3.0   \n",
       "3                      0  sales     0.0                2.0                3.0   \n",
       "4                      0  sales     0.0                1.0                0.0   \n",
       "\n",
       "   avg_month_hr_cluster  satisfaction_level^1xlast_evaluation^1  \\\n",
       "0                   0.0                                  0.2014   \n",
       "1                   2.0                                  0.6880   \n",
       "2                   2.0                                  0.0968   \n",
       "3                   1.0                                  0.6264   \n",
       "4                   0.0                                  0.1924   \n",
       "\n",
       "   satisfaction_level^1xnumber_project^1  \\\n",
       "0                                   0.76   \n",
       "1                                   4.00   \n",
       "2                                   0.77   \n",
       "3                                   3.60   \n",
       "4                                   0.74   \n",
       "\n",
       "   satisfaction_level^1xaverage_montly_hours^1  \\\n",
       "0                                        59.66   \n",
       "1                                       209.60   \n",
       "2                                        29.92   \n",
       "3                                       160.56   \n",
       "4                                        58.83   \n",
       "\n",
       "   satisfaction_level^1xtime_spend_company^1  \\\n",
       "0                                       1.14   \n",
       "1                                       4.80   \n",
       "2                                       0.44   \n",
       "3                                       3.60   \n",
       "4                                       1.11   \n",
       "\n",
       "   last_evaluation^1xnumber_project^1  \\\n",
       "0                                1.06   \n",
       "1                                4.30   \n",
       "2                                6.16   \n",
       "3                                4.35   \n",
       "4                                1.04   \n",
       "\n",
       "   last_evaluation^1xaverage_montly_hours^1  \\\n",
       "0                                     83.21   \n",
       "1                                    225.32   \n",
       "2                                    239.36   \n",
       "3                                    194.01   \n",
       "4                                     82.68   \n",
       "\n",
       "   last_evaluation^1xtime_spend_company^1  \\\n",
       "0                                    1.59   \n",
       "1                                    5.16   \n",
       "2                                    3.52   \n",
       "3                                    4.35   \n",
       "4                                    1.56   \n",
       "\n",
       "   number_project^1xaverage_montly_hours^1  \\\n",
       "0                                    314.0   \n",
       "1                                   1310.0   \n",
       "2                                   1904.0   \n",
       "3                                   1115.0   \n",
       "4                                    318.0   \n",
       "\n",
       "   number_project^1xtime_spend_company^1  \\\n",
       "0                                    6.0   \n",
       "1                                   30.0   \n",
       "2                                   28.0   \n",
       "3                                   25.0   \n",
       "4                                    6.0   \n",
       "\n",
       "   average_montly_hours^1xtime_spend_company^1  \n",
       "0                                        471.0  \n",
       "1                                       1572.0  \n",
       "2                                       1088.0  \n",
       "3                                       1115.0  \n",
       "4                                        477.0  "
      ]
     },
     "execution_count": 171,
     "metadata": {},
     "output_type": "execute_result"
    }
   ],
   "source": [
    "df_for_preprocessing.head()"
   ]
  },
  {
   "cell_type": "code",
   "execution_count": 172,
   "metadata": {},
   "outputs": [],
   "source": [
    "df_for_preprocessing.to_csv('df_for_preprocessing_ord.csv', index=False)"
   ]
  },
  {
   "cell_type": "code",
   "execution_count": 173,
   "metadata": {},
   "outputs": [],
   "source": [
    "nominal_transformer = OneHotEncoder([\n",
    "                                    ['sales', 'accounting', 'hr', 'technical', 'support', 'management','IT',                                            'product_mng', 'marketing', 'RandD'],\n",
    "                                    ])"
   ]
  },
  {
   "cell_type": "code",
   "execution_count": 174,
   "metadata": {},
   "outputs": [],
   "source": [
    "preprocessor = ColumnTransformer(transformers = [\n",
    "                                                #('scaler', num_transformer, num_var),\n",
    "                                                ('onehot', nominal_transformer, nom_var),\n",
    "                                                #('ordinal', new_OrdinalEncoder(cat), ord_var),\n",
    "                                                ],\n",
    "                                remainder = 'passthrough')"
   ]
  },
  {
   "cell_type": "code",
   "execution_count": 175,
   "metadata": {},
   "outputs": [],
   "source": [
    "# Assign variables\n",
    "X = df_for_preprocessing[['dept',\n",
    "                         'salary',\n",
    "                         'sat_level_cluster',\n",
    "                         'last_eval_cluster',\n",
    "                         'avg_month_hr_cluster',\n",
    "                         'Work_accident',\n",
    "                         'promotion_last_5years']]\n",
    "\n",
    "y = df_for_preprocessing[['churn']]\n",
    "\n",
    "\n",
    "#Test train split first\n",
    "X_train, X_test, y_train, y_test = train_test_split(X, \n",
    "                                                    y,\n",
    "                                                    test_size = 0.3, \n",
    "                                                    random_state = 42)"
   ]
  },
  {
   "cell_type": "code",
   "execution_count": 176,
   "metadata": {},
   "outputs": [],
   "source": [
    "# Fitting the preprocessor\n",
    "X_train_transformed = preprocessor.fit_transform(X_train)\n",
    "\n",
    "# Transform the input validation and test sets\n",
    "X_test_transformed = preprocessor.transform(X_test)"
   ]
  },
  {
   "cell_type": "code",
   "execution_count": 177,
   "metadata": {},
   "outputs": [],
   "source": [
    "#Grab the column names for all of our nominal variables\n",
    "one_hot_columns = preprocessor.named_transformers_.onehot.get_feature_names()"
   ]
  },
  {
   "cell_type": "code",
   "execution_count": 178,
   "metadata": {},
   "outputs": [
    {
     "data": {
      "text/plain": [
       "array(['x0_sales', 'x0_accounting', 'x0_hr', 'x0_technical', 'x0_support',\n",
       "       'x0_management', 'x0_IT', 'x0_product_mng', 'x0_marketing',\n",
       "       'x0_RandD'], dtype=object)"
      ]
     },
     "execution_count": 178,
     "metadata": {},
     "output_type": "execute_result"
    }
   ],
   "source": [
    "one_hot_columns"
   ]
  },
  {
   "cell_type": "code",
   "execution_count": 179,
   "metadata": {},
   "outputs": [],
   "source": [
    "transformed_columns = list(one_hot_columns) + ord_var + bin_var"
   ]
  },
  {
   "cell_type": "code",
   "execution_count": 180,
   "metadata": {},
   "outputs": [],
   "source": [
    "X_train_transform_df = pd.DataFrame(X_train_transformed, columns = transformed_columns)\n",
    "X_test_transform_df = pd.DataFrame(X_test_transformed, columns = transformed_columns)"
   ]
  },
  {
   "cell_type": "code",
   "execution_count": 181,
   "metadata": {},
   "outputs": [
    {
     "data": {
      "text/html": [
       "<div>\n",
       "<style scoped>\n",
       "    .dataframe tbody tr th:only-of-type {\n",
       "        vertical-align: middle;\n",
       "    }\n",
       "\n",
       "    .dataframe tbody tr th {\n",
       "        vertical-align: top;\n",
       "    }\n",
       "\n",
       "    .dataframe thead th {\n",
       "        text-align: right;\n",
       "    }\n",
       "</style>\n",
       "<table border=\"1\" class=\"dataframe\">\n",
       "  <thead>\n",
       "    <tr style=\"text-align: right;\">\n",
       "      <th></th>\n",
       "      <th>dept</th>\n",
       "      <th>salary</th>\n",
       "      <th>sat_level_cluster</th>\n",
       "      <th>last_eval_cluster</th>\n",
       "      <th>avg_month_hr_cluster</th>\n",
       "      <th>Work_accident</th>\n",
       "      <th>promotion_last_5years</th>\n",
       "    </tr>\n",
       "  </thead>\n",
       "  <tbody>\n",
       "    <tr>\n",
       "      <th>12602</th>\n",
       "      <td>product_mng</td>\n",
       "      <td>0.0</td>\n",
       "      <td>0.0</td>\n",
       "      <td>2.0</td>\n",
       "      <td>2.0</td>\n",
       "      <td>0</td>\n",
       "      <td>0</td>\n",
       "    </tr>\n",
       "    <tr>\n",
       "      <th>4889</th>\n",
       "      <td>management</td>\n",
       "      <td>1.0</td>\n",
       "      <td>2.0</td>\n",
       "      <td>1.0</td>\n",
       "      <td>0.0</td>\n",
       "      <td>1</td>\n",
       "      <td>0</td>\n",
       "    </tr>\n",
       "    <tr>\n",
       "      <th>1572</th>\n",
       "      <td>technical</td>\n",
       "      <td>0.0</td>\n",
       "      <td>1.0</td>\n",
       "      <td>0.0</td>\n",
       "      <td>0.0</td>\n",
       "      <td>0</td>\n",
       "      <td>0</td>\n",
       "    </tr>\n",
       "    <tr>\n",
       "      <th>13375</th>\n",
       "      <td>IT</td>\n",
       "      <td>1.0</td>\n",
       "      <td>3.0</td>\n",
       "      <td>1.0</td>\n",
       "      <td>0.0</td>\n",
       "      <td>0</td>\n",
       "      <td>0</td>\n",
       "    </tr>\n",
       "    <tr>\n",
       "      <th>879</th>\n",
       "      <td>technical</td>\n",
       "      <td>1.0</td>\n",
       "      <td>3.0</td>\n",
       "      <td>3.0</td>\n",
       "      <td>2.0</td>\n",
       "      <td>0</td>\n",
       "      <td>0</td>\n",
       "    </tr>\n",
       "  </tbody>\n",
       "</table>\n",
       "</div>"
      ],
      "text/plain": [
       "              dept  salary  sat_level_cluster  last_eval_cluster  \\\n",
       "12602  product_mng     0.0                0.0                2.0   \n",
       "4889    management     1.0                2.0                1.0   \n",
       "1572     technical     0.0                1.0                0.0   \n",
       "13375           IT     1.0                3.0                1.0   \n",
       "879      technical     1.0                3.0                3.0   \n",
       "\n",
       "       avg_month_hr_cluster  Work_accident  promotion_last_5years  \n",
       "12602                   2.0              0                      0  \n",
       "4889                    0.0              1                      0  \n",
       "1572                    0.0              0                      0  \n",
       "13375                   0.0              0                      0  \n",
       "879                     2.0              0                      0  "
      ]
     },
     "execution_count": 181,
     "metadata": {},
     "output_type": "execute_result"
    }
   ],
   "source": [
    "X_train.head()"
   ]
  },
  {
   "cell_type": "code",
   "execution_count": 182,
   "metadata": {},
   "outputs": [
    {
     "data": {
      "text/html": [
       "<div>\n",
       "<style scoped>\n",
       "    .dataframe tbody tr th:only-of-type {\n",
       "        vertical-align: middle;\n",
       "    }\n",
       "\n",
       "    .dataframe tbody tr th {\n",
       "        vertical-align: top;\n",
       "    }\n",
       "\n",
       "    .dataframe thead th {\n",
       "        text-align: right;\n",
       "    }\n",
       "</style>\n",
       "<table border=\"1\" class=\"dataframe\">\n",
       "  <thead>\n",
       "    <tr style=\"text-align: right;\">\n",
       "      <th></th>\n",
       "      <th>x0_sales</th>\n",
       "      <th>x0_accounting</th>\n",
       "      <th>x0_hr</th>\n",
       "      <th>x0_technical</th>\n",
       "      <th>x0_support</th>\n",
       "      <th>x0_management</th>\n",
       "      <th>x0_IT</th>\n",
       "      <th>x0_product_mng</th>\n",
       "      <th>x0_marketing</th>\n",
       "      <th>x0_RandD</th>\n",
       "      <th>salary</th>\n",
       "      <th>sat_level_cluster</th>\n",
       "      <th>last_eval_cluster</th>\n",
       "      <th>avg_month_hr_cluster</th>\n",
       "      <th>Work_accident</th>\n",
       "      <th>promotion_last_5years</th>\n",
       "    </tr>\n",
       "  </thead>\n",
       "  <tbody>\n",
       "    <tr>\n",
       "      <th>0</th>\n",
       "      <td>0.0</td>\n",
       "      <td>0.0</td>\n",
       "      <td>0.0</td>\n",
       "      <td>0.0</td>\n",
       "      <td>0.0</td>\n",
       "      <td>0.0</td>\n",
       "      <td>0.0</td>\n",
       "      <td>1.0</td>\n",
       "      <td>0.0</td>\n",
       "      <td>0.0</td>\n",
       "      <td>0.0</td>\n",
       "      <td>0.0</td>\n",
       "      <td>2.0</td>\n",
       "      <td>2.0</td>\n",
       "      <td>0.0</td>\n",
       "      <td>0.0</td>\n",
       "    </tr>\n",
       "    <tr>\n",
       "      <th>1</th>\n",
       "      <td>0.0</td>\n",
       "      <td>0.0</td>\n",
       "      <td>0.0</td>\n",
       "      <td>0.0</td>\n",
       "      <td>0.0</td>\n",
       "      <td>1.0</td>\n",
       "      <td>0.0</td>\n",
       "      <td>0.0</td>\n",
       "      <td>0.0</td>\n",
       "      <td>0.0</td>\n",
       "      <td>1.0</td>\n",
       "      <td>2.0</td>\n",
       "      <td>1.0</td>\n",
       "      <td>0.0</td>\n",
       "      <td>1.0</td>\n",
       "      <td>0.0</td>\n",
       "    </tr>\n",
       "    <tr>\n",
       "      <th>2</th>\n",
       "      <td>0.0</td>\n",
       "      <td>0.0</td>\n",
       "      <td>0.0</td>\n",
       "      <td>1.0</td>\n",
       "      <td>0.0</td>\n",
       "      <td>0.0</td>\n",
       "      <td>0.0</td>\n",
       "      <td>0.0</td>\n",
       "      <td>0.0</td>\n",
       "      <td>0.0</td>\n",
       "      <td>0.0</td>\n",
       "      <td>1.0</td>\n",
       "      <td>0.0</td>\n",
       "      <td>0.0</td>\n",
       "      <td>0.0</td>\n",
       "      <td>0.0</td>\n",
       "    </tr>\n",
       "    <tr>\n",
       "      <th>3</th>\n",
       "      <td>0.0</td>\n",
       "      <td>0.0</td>\n",
       "      <td>0.0</td>\n",
       "      <td>0.0</td>\n",
       "      <td>0.0</td>\n",
       "      <td>0.0</td>\n",
       "      <td>1.0</td>\n",
       "      <td>0.0</td>\n",
       "      <td>0.0</td>\n",
       "      <td>0.0</td>\n",
       "      <td>1.0</td>\n",
       "      <td>3.0</td>\n",
       "      <td>1.0</td>\n",
       "      <td>0.0</td>\n",
       "      <td>0.0</td>\n",
       "      <td>0.0</td>\n",
       "    </tr>\n",
       "    <tr>\n",
       "      <th>4</th>\n",
       "      <td>0.0</td>\n",
       "      <td>0.0</td>\n",
       "      <td>0.0</td>\n",
       "      <td>1.0</td>\n",
       "      <td>0.0</td>\n",
       "      <td>0.0</td>\n",
       "      <td>0.0</td>\n",
       "      <td>0.0</td>\n",
       "      <td>0.0</td>\n",
       "      <td>0.0</td>\n",
       "      <td>1.0</td>\n",
       "      <td>3.0</td>\n",
       "      <td>3.0</td>\n",
       "      <td>2.0</td>\n",
       "      <td>0.0</td>\n",
       "      <td>0.0</td>\n",
       "    </tr>\n",
       "  </tbody>\n",
       "</table>\n",
       "</div>"
      ],
      "text/plain": [
       "   x0_sales  x0_accounting  x0_hr  x0_technical  x0_support  x0_management  \\\n",
       "0       0.0            0.0    0.0           0.0         0.0            0.0   \n",
       "1       0.0            0.0    0.0           0.0         0.0            1.0   \n",
       "2       0.0            0.0    0.0           1.0         0.0            0.0   \n",
       "3       0.0            0.0    0.0           0.0         0.0            0.0   \n",
       "4       0.0            0.0    0.0           1.0         0.0            0.0   \n",
       "\n",
       "   x0_IT  x0_product_mng  x0_marketing  x0_RandD  salary  sat_level_cluster  \\\n",
       "0    0.0             1.0           0.0       0.0     0.0                0.0   \n",
       "1    0.0             0.0           0.0       0.0     1.0                2.0   \n",
       "2    0.0             0.0           0.0       0.0     0.0                1.0   \n",
       "3    1.0             0.0           0.0       0.0     1.0                3.0   \n",
       "4    0.0             0.0           0.0       0.0     1.0                3.0   \n",
       "\n",
       "   last_eval_cluster  avg_month_hr_cluster  Work_accident  \\\n",
       "0                2.0                   2.0            0.0   \n",
       "1                1.0                   0.0            1.0   \n",
       "2                0.0                   0.0            0.0   \n",
       "3                1.0                   0.0            0.0   \n",
       "4                3.0                   2.0            0.0   \n",
       "\n",
       "   promotion_last_5years  \n",
       "0                    0.0  \n",
       "1                    0.0  \n",
       "2                    0.0  \n",
       "3                    0.0  \n",
       "4                    0.0  "
      ]
     },
     "execution_count": 182,
     "metadata": {},
     "output_type": "execute_result"
    }
   ],
   "source": [
    "X_train_transform_df.head()"
   ]
  },
  {
   "cell_type": "code",
   "execution_count": 183,
   "metadata": {},
   "outputs": [],
   "source": [
    "#We need categorical data, so will change all the data to integers first\n",
    "X_train_int = X_train_transform_df.astype(int)"
   ]
  },
  {
   "cell_type": "code",
   "execution_count": 204,
   "metadata": {},
   "outputs": [
    {
     "data": {
      "text/plain": [
       "SelectKBest(k=10, score_func=<function chi2 at 0x7f39f6360620>)"
      ]
     },
     "execution_count": 204,
     "metadata": {},
     "output_type": "execute_result"
    }
   ],
   "source": [
    "selector_chi2 = SelectKBest(score_func = chi2, k = 10)\n",
    "selector_chi2.fit(X_train_int, y_train)"
   ]
  },
  {
   "cell_type": "code",
   "execution_count": 205,
   "metadata": {},
   "outputs": [
    {
     "data": {
      "text/plain": [
       "array([1.2600e+00, 2.8500e+00, 6.6500e+00, 4.5800e+00, 1.0000e-02,\n",
       "       2.3120e+01, 2.2600e+00, 2.0000e-02, 7.2000e-01, 2.6870e+01,\n",
       "       1.8141e+02, 6.6373e+02, 4.2200e+00, 1.3120e+01, 2.0961e+02,\n",
       "       3.8920e+01])"
      ]
     },
     "execution_count": 205,
     "metadata": {},
     "output_type": "execute_result"
    }
   ],
   "source": [
    "#Chi2 scores\n",
    "selector_chi2.scores_.round(2)"
   ]
  },
  {
   "cell_type": "code",
   "execution_count": 206,
   "metadata": {},
   "outputs": [
    {
     "data": {
      "text/plain": [
       "array([0.26, 0.09, 0.01, 0.03, 0.93, 0.  , 0.13, 0.89, 0.4 , 0.  , 0.  ,\n",
       "       0.  , 0.04, 0.  , 0.  , 0.  ])"
      ]
     },
     "execution_count": 206,
     "metadata": {},
     "output_type": "execute_result"
    }
   ],
   "source": [
    "#p-values\n",
    "selector_chi2.pvalues_.round(2)"
   ]
  },
  {
   "cell_type": "code",
   "execution_count": 207,
   "metadata": {},
   "outputs": [
    {
     "data": {
      "text/plain": [
       "array([False, False,  True,  True, False,  True, False, False, False,\n",
       "        True,  True,  True,  True,  True,  True,  True])"
      ]
     },
     "execution_count": 207,
     "metadata": {},
     "output_type": "execute_result"
    }
   ],
   "source": [
    "#Seeing which features are picked\n",
    "selector_chi2.get_support()"
   ]
  },
  {
   "cell_type": "code",
   "execution_count": 208,
   "metadata": {},
   "outputs": [
    {
     "data": {
      "text/plain": [
       "array([ 2,  3,  5,  9, 10, 11, 12, 13, 14, 15])"
      ]
     },
     "execution_count": 208,
     "metadata": {},
     "output_type": "execute_result"
    }
   ],
   "source": [
    "#Getting the indices of the columns\n",
    "selector_chi2.get_support(indices = True)"
   ]
  },
  {
   "cell_type": "code",
   "execution_count": 212,
   "metadata": {},
   "outputs": [
    {
     "name": "stdout",
     "output_type": "stream",
     "text": [
      "x0_hr\n",
      "x0_technical\n",
      "x0_management\n",
      "x0_RandD\n",
      "salary\n",
      "sat_level_cluster\n",
      "last_eval_cluster\n",
      "avg_month_hr_cluster\n",
      "Work_accident\n",
      "promotion_last_5years\n"
     ]
    }
   ],
   "source": [
    "for num in selector_chi2.get_support(indices = True):\n",
    "    print(transformed_columns[num])"
   ]
  },
  {
   "cell_type": "code",
   "execution_count": 210,
   "metadata": {},
   "outputs": [
    {
     "ename": "TypeError",
     "evalue": "only integer scalar arrays can be converted to a scalar index",
     "output_type": "error",
     "traceback": [
      "\u001b[0;31m---------------------------------------------------------------------------\u001b[0m",
      "\u001b[0;31mTypeError\u001b[0m                                 Traceback (most recent call last)",
      "\u001b[0;32m<ipython-input-210-43b86f6ddb1f>\u001b[0m in \u001b[0;36m<module>\u001b[0;34m\u001b[0m\n\u001b[0;32m----> 1\u001b[0;31m \u001b[0mtransformed_columns\u001b[0m\u001b[0;34m[\u001b[0m\u001b[0mselector_chi2\u001b[0m\u001b[0;34m.\u001b[0m\u001b[0mget_support\u001b[0m\u001b[0;34m(\u001b[0m\u001b[0mindices\u001b[0m \u001b[0;34m=\u001b[0m \u001b[0;32mTrue\u001b[0m\u001b[0;34m)\u001b[0m\u001b[0;34m]\u001b[0m\u001b[0;34m\u001b[0m\u001b[0;34m\u001b[0m\u001b[0m\n\u001b[0m",
      "\u001b[0;31mTypeError\u001b[0m: only integer scalar arrays can be converted to a scalar index"
     ]
    }
   ],
   "source": [
    "transformed_columns[selector_chi2.get_support(indices = True)]"
   ]
  },
  {
   "cell_type": "code",
   "execution_count": null,
   "metadata": {},
   "outputs": [],
   "source": []
  }
 ],
 "metadata": {
  "kernelspec": {
   "display_name": "Python 3",
   "language": "python",
   "name": "python3"
  },
  "language_info": {
   "codemirror_mode": {
    "name": "ipython",
    "version": 3
   },
   "file_extension": ".py",
   "mimetype": "text/x-python",
   "name": "python",
   "nbconvert_exporter": "python",
   "pygments_lexer": "ipython3",
   "version": "3.6.9"
  }
 },
 "nbformat": 4,
 "nbformat_minor": 4
}
